{
 "cells": [
  {
   "cell_type": "markdown",
   "metadata": {
    "colab_type": "text",
    "id": "rc7DTpLs9wiz"
   },
   "source": [
    "## LSTM"
   ]
  },
  {
   "cell_type": "markdown",
   "metadata": {
    "colab_type": "text",
    "id": "vidayERjaO5q"
   },
   "source": [
    "## Setup"
   ]
  },
  {
   "cell_type": "code",
   "execution_count": 1,
   "metadata": {
    "colab": {
     "base_uri": "https://localhost:8080/",
     "height": 50
    },
    "colab_type": "code",
    "id": "gqWabzlJ63nL",
    "outputId": "78765880-4bb8-41ca-923c-955826ee4301"
   },
   "outputs": [
    {
     "name": "stderr",
     "output_type": "stream",
     "text": [
      "C:\\Users\\Ananya\\anaconda3\\lib\\site-packages\\numpy\\_distributor_init.py:30: UserWarning: loaded more than 1 DLL from .libs:\n",
      "C:\\Users\\Ananya\\anaconda3\\lib\\site-packages\\numpy\\.libs\\libopenblas.EL2C6PLE4ZYW3ECEVIV3OXXGRN2NRFM2.gfortran-win_amd64.dll\n",
      "C:\\Users\\Ananya\\anaconda3\\lib\\site-packages\\numpy\\.libs\\libopenblas.FB5AE2TYXYH2IJRDKGDGQ3XBKLKTF43H.gfortran-win_amd64.dll\n",
      "  warnings.warn(\"loaded more than 1 DLL from .libs:\"\n",
      "<frozen importlib._bootstrap>:219: RuntimeWarning: scipy._lib.messagestream.MessageStream size changed, may indicate binary incompatibility. Expected 56 from C header, got 64 from PyObject\n"
     ]
    }
   ],
   "source": [
    "import sys\n",
    "import os\n",
    "import warnings\n",
    "\n",
    "import numpy as np\n",
    "import pandas as pd\n",
    "import tensorflow as tf\n",
    "import seaborn as sns\n",
    "import matplotlib.pyplot as plt\n",
    "from sklearn.preprocessing import MinMaxScaler"
   ]
  },
  {
   "cell_type": "code",
   "execution_count": 2,
   "metadata": {},
   "outputs": [],
   "source": [
    "if not sys.warnoptions:\n",
    "    warnings.simplefilter(\"ignore\")\n",
    "    os.environ[\"PYTHONWARNINGS\"] = \"ignore\" # Also affect subprocesses\n",
    "\n",
    "keras = tf.keras\n",
    "\n",
    "# set style of charts\n",
    "sns.set(style=\"darkgrid\")\n",
    "plt.rcParams['figure.figsize'] = [10, 10]"
   ]
  },
  {
   "cell_type": "code",
   "execution_count": 3,
   "metadata": {
    "colab": {},
    "colab_type": "code",
    "id": "cg1hfKCPldZG"
   },
   "outputs": [],
   "source": [
    "def plot_series(time, series, format=\"-\", start=0, end=None, label=None):\n",
    "    plt.plot(time[start:end], series[start:end], format, label=label)\n",
    "    plt.xlabel(\"Time\")\n",
    "    plt.ylabel(\"Value\")\n",
    "    if label:\n",
    "        plt.legend(fontsize=14)\n",
    "    plt.grid(True)\n",
    "    \n",
    "\n",
    "def sequential_window_dataset(series, window_size):\n",
    "    ds = tf.data.Dataset.from_tensor_slices(series)\n",
    "    ds = ds.window(window_size + 1, shift=window_size, drop_remainder=True)\n",
    "    ds = ds.flat_map(lambda window: window.batch(window_size + 1))\n",
    "    ds = ds.map(lambda window: (window[:-1], window[1:]))\n",
    "    return ds.batch(1).prefetch(1)"
   ]
  },
  {
   "cell_type": "code",
   "execution_count": 5,
   "metadata": {
    "colab": {},
    "colab_type": "code",
    "id": "iL2DDjV3lel6"
   },
   "outputs": [
    {
     "name": "stdout",
     "output_type": "stream",
     "text": [
      "4852\n"
     ]
    },
    {
     "data": {
      "text/html": [
       "<div>\n",
       "<style scoped>\n",
       "    .dataframe tbody tr th:only-of-type {\n",
       "        vertical-align: middle;\n",
       "    }\n",
       "\n",
       "    .dataframe tbody tr th {\n",
       "        vertical-align: top;\n",
       "    }\n",
       "\n",
       "    .dataframe thead th {\n",
       "        text-align: right;\n",
       "    }\n",
       "</style>\n",
       "<table border=\"1\" class=\"dataframe\">\n",
       "  <thead>\n",
       "    <tr style=\"text-align: right;\">\n",
       "      <th></th>\n",
       "      <th>Model</th>\n",
       "      <th>MAE</th>\n",
       "      <th>MAPE in %</th>\n",
       "    </tr>\n",
       "  </thead>\n",
       "  <tbody>\n",
       "    <tr>\n",
       "      <th>0</th>\n",
       "      <td>Naive Model</td>\n",
       "      <td>0.004958</td>\n",
       "      <td>0.374773</td>\n",
       "    </tr>\n",
       "    <tr>\n",
       "      <th>1</th>\n",
       "      <td>MA5</td>\n",
       "      <td>0.011715</td>\n",
       "      <td>0.890453</td>\n",
       "    </tr>\n",
       "    <tr>\n",
       "      <th>2</th>\n",
       "      <td>MA20</td>\n",
       "      <td>0.024235</td>\n",
       "      <td>1.840606</td>\n",
       "    </tr>\n",
       "    <tr>\n",
       "      <th>3</th>\n",
       "      <td>ARIMA (0,1,0)</td>\n",
       "      <td>0.004958</td>\n",
       "      <td>0.374773</td>\n",
       "    </tr>\n",
       "    <tr>\n",
       "      <th>4</th>\n",
       "      <td>Linear model (MA5, MA20)</td>\n",
       "      <td>0.005484</td>\n",
       "      <td>0.414356</td>\n",
       "    </tr>\n",
       "    <tr>\n",
       "      <th>5</th>\n",
       "      <td>Dense Neural Network</td>\n",
       "      <td>0.011224</td>\n",
       "      <td>0.858841</td>\n",
       "    </tr>\n",
       "    <tr>\n",
       "      <th>6</th>\n",
       "      <td>LSTM</td>\n",
       "      <td>0.002854</td>\n",
       "      <td>0.211474</td>\n",
       "    </tr>\n",
       "    <tr>\n",
       "      <th>7</th>\n",
       "      <td>RNN</td>\n",
       "      <td>0.005412</td>\n",
       "      <td>0.410384</td>\n",
       "    </tr>\n",
       "  </tbody>\n",
       "</table>\n",
       "</div>"
      ],
      "text/plain": [
       "                      Model       MAE  MAPE in %\n",
       "0               Naive Model  0.004958   0.374773\n",
       "1                       MA5  0.011715   0.890453\n",
       "2                      MA20  0.024235   1.840606\n",
       "3             ARIMA (0,1,0)  0.004958   0.374773\n",
       "4  Linear model (MA5, MA20)  0.005484   0.414356\n",
       "5      Dense Neural Network  0.011224   0.858841\n",
       "6                      LSTM  0.002854   0.211474\n",
       "7                       RNN  0.005412   0.410384"
      ]
     },
     "execution_count": 5,
     "metadata": {},
     "output_type": "execute_result"
    }
   ],
   "source": [
    "# Read in data\n",
    "forex = pd.read_csv('./GBPUSD.csv')\n",
    "model_scores = pd.read_csv(\"./Model scores.csv\", index_col=0)\n",
    "\n",
    "# Convert series into datetime type\n",
    "forex.index = pd.to_datetime(forex['Date'])\n",
    "\n",
    "# Save target series\n",
    "series = forex['Close']\n",
    "\n",
    "#Size of exchange rates\n",
    "total_size = forex.shape[0]\n",
    "print(total_size)\n",
    "\n",
    "#Use 80% of data as training, rest 10% to Validate and Test the model\n",
    "valid_split_index = int(total_size * 0.8)\n",
    "test_split_index = int(total_size * 0.1)\n",
    "x_train = forex.iloc[0:valid_split_index].Close\n",
    "x_valid = forex.iloc[valid_split_index:-test_split_index].Close\n",
    "x_test = forex.iloc[-test_split_index:total_size].Close\n",
    "\n",
    "model_scores"
   ]
  },
  {
   "cell_type": "code",
   "execution_count": 6,
   "metadata": {
    "colab": {},
    "colab_type": "code",
    "id": "1GiizAJ_oQjk"
   },
   "outputs": [],
   "source": [
    "# Reshape the datsets\n",
    "x_train_values = x_train.values.reshape(-1, 1)\n",
    "x_valid_values = x_valid.values.reshape(-1, 1)\n",
    "x_test_values = x_test.values.reshape(-1, 1)\n",
    "\n",
    "# Create a Scaler Object\n",
    "x_train_scaler = MinMaxScaler(feature_range=(0, 1))\n",
    "\n",
    "# normalize training data\n",
    "normalized_x_train = x_train_scaler.fit_transform(x_train_values)\n",
    "\n",
    "# normalize validation data\n",
    "normalized_x_valid = x_train_scaler.transform(x_valid_values)\n",
    "\n",
    "# normalize test data\n",
    "normalized_x_test = x_train_scaler.transform(x_test_values)\n",
    "\n",
    "# Normalized to training data\n",
    "forex_normalized_to_traindata = x_train_scaler.transform(series.values.reshape(-1, 1))"
   ]
  },
  {
   "cell_type": "code",
   "execution_count": 9,
   "metadata": {
    "colab": {},
    "colab_type": "code",
    "id": "9fPenJpTtuDE"
   },
   "outputs": [],
   "source": [
    "# Used as callback to reset model state, since this is a stateful model\n",
    "class ResetStatesCallback(keras.callbacks.Callback):\n",
    "    def on_epoch_begin(self, epoch, logs):\n",
    "        self.model.reset_states()"
   ]
  },
  {
   "cell_type": "markdown",
   "metadata": {
    "colab_type": "text",
    "id": "EPjK0l9P8OJM"
   },
   "source": [
    "## Find the learning Rate"
   ]
  },
  {
   "cell_type": "code",
   "execution_count": 8,
   "metadata": {
    "colab": {
     "base_uri": "https://localhost:8080/",
     "height": 1000
    },
    "colab_type": "code",
    "id": "cSoUmW-x8OJN",
    "outputId": "49f3a9fa-1e42-4be4-ec13-77971aba21d6"
   },
   "outputs": [
    {
     "name": "stdout",
     "output_type": "stream",
     "text": [
      "Epoch 1/100\n",
      "193/193 [==============================] - 7s 19ms/step - loss: 0.2565 - mae: 0.4391 - lr: 1.0000e-05\n",
      "Epoch 2/100\n",
      "193/193 [==============================] - 2s 11ms/step - loss: 0.1163 - mae: 0.2716 - lr: 1.1220e-05\n",
      "Epoch 3/100\n",
      "193/193 [==============================] - 2s 11ms/step - loss: 0.0131 - mae: 0.0784 - lr: 1.2589e-05\n",
      "Epoch 4/100\n",
      "193/193 [==============================] - 2s 11ms/step - loss: 0.0028 - mae: 0.0348 - lr: 1.4125e-05\n",
      "Epoch 5/100\n",
      "193/193 [==============================] - 2s 11ms/step - loss: 0.0027 - mae: 0.0333 - lr: 1.5849e-05\n",
      "Epoch 6/100\n",
      "193/193 [==============================] - 2s 11ms/step - loss: 0.0025 - mae: 0.0322 - lr: 1.7783e-05\n",
      "Epoch 7/100\n",
      "193/193 [==============================] - 2s 11ms/step - loss: 0.0024 - mae: 0.0313 - lr: 1.9953e-05\n",
      "Epoch 8/100\n",
      "193/193 [==============================] - 2s 11ms/step - loss: 0.0023 - mae: 0.0303 - lr: 2.2387e-05\n",
      "Epoch 9/100\n",
      "193/193 [==============================] - 2s 11ms/step - loss: 0.0022 - mae: 0.0294 - lr: 2.5119e-05\n",
      "Epoch 10/100\n",
      "193/193 [==============================] - 2s 11ms/step - loss: 0.0022 - mae: 0.0286 - lr: 2.8184e-05\n",
      "Epoch 11/100\n",
      "193/193 [==============================] - 2s 11ms/step - loss: 0.0021 - mae: 0.0279 - lr: 3.1623e-05\n",
      "Epoch 12/100\n",
      "193/193 [==============================] - 2s 11ms/step - loss: 0.0021 - mae: 0.0273 - lr: 3.5481e-05\n",
      "Epoch 13/100\n",
      "193/193 [==============================] - 2s 11ms/step - loss: 0.0020 - mae: 0.0268 - lr: 3.9811e-05\n",
      "Epoch 14/100\n",
      "193/193 [==============================] - 2s 11ms/step - loss: 0.0020 - mae: 0.0263 - lr: 4.4668e-05\n",
      "Epoch 15/100\n",
      "193/193 [==============================] - 2s 11ms/step - loss: 0.0019 - mae: 0.0259 - lr: 5.0119e-05\n",
      "Epoch 16/100\n",
      "193/193 [==============================] - 2s 11ms/step - loss: 0.0019 - mae: 0.0255 - lr: 5.6234e-05\n",
      "Epoch 17/100\n",
      "193/193 [==============================] - 2s 11ms/step - loss: 0.0018 - mae: 0.0252 - lr: 6.3096e-05\n",
      "Epoch 18/100\n",
      "193/193 [==============================] - 2s 11ms/step - loss: 0.0018 - mae: 0.0248 - lr: 7.0795e-05\n",
      "Epoch 19/100\n",
      "193/193 [==============================] - 2s 11ms/step - loss: 0.0017 - mae: 0.0245 - lr: 7.9433e-05\n",
      "Epoch 20/100\n",
      "193/193 [==============================] - 2s 11ms/step - loss: 0.0017 - mae: 0.0242 - lr: 8.9125e-05\n",
      "Epoch 21/100\n",
      "193/193 [==============================] - 2s 11ms/step - loss: 0.0016 - mae: 0.0238 - lr: 1.0000e-04\n",
      "Epoch 22/100\n",
      "193/193 [==============================] - 2s 11ms/step - loss: 0.0016 - mae: 0.0236 - lr: 1.1220e-04\n",
      "Epoch 23/100\n",
      "193/193 [==============================] - 2s 11ms/step - loss: 0.0015 - mae: 0.0233 - lr: 1.2589e-04\n",
      "Epoch 24/100\n",
      "193/193 [==============================] - 2s 12ms/step - loss: 0.0015 - mae: 0.0231 - lr: 1.4125e-04\n",
      "Epoch 25/100\n",
      "193/193 [==============================] - 2s 11ms/step - loss: 0.0015 - mae: 0.0228 - lr: 1.5849e-04\n",
      "Epoch 26/100\n",
      "193/193 [==============================] - 2s 11ms/step - loss: 0.0014 - mae: 0.0226 - lr: 1.7783e-04\n",
      "Epoch 27/100\n",
      "193/193 [==============================] - 2s 11ms/step - loss: 0.0014 - mae: 0.0224 - lr: 1.9953e-04\n",
      "Epoch 28/100\n",
      "193/193 [==============================] - 2s 11ms/step - loss: 0.0013 - mae: 0.0222 - lr: 2.2387e-04\n",
      "Epoch 29/100\n",
      "193/193 [==============================] - 2s 11ms/step - loss: 0.0013 - mae: 0.0221 - lr: 2.5119e-04\n",
      "Epoch 30/100\n",
      "193/193 [==============================] - 2s 11ms/step - loss: 0.0013 - mae: 0.0219 - lr: 2.8184e-04\n",
      "Epoch 31/100\n",
      "193/193 [==============================] - 2s 11ms/step - loss: 0.0013 - mae: 0.0218 - lr: 3.1623e-04\n",
      "Epoch 32/100\n",
      "193/193 [==============================] - 2s 11ms/step - loss: 0.0012 - mae: 0.0217 - lr: 3.5481e-04\n",
      "Epoch 33/100\n",
      "193/193 [==============================] - 2s 12ms/step - loss: 0.0012 - mae: 0.0217 - lr: 3.9811e-04\n",
      "Epoch 34/100\n",
      "193/193 [==============================] - 2s 13ms/step - loss: 0.0012 - mae: 0.0216 - lr: 4.4668e-04\n",
      "Epoch 35/100\n",
      "193/193 [==============================] - 2s 11ms/step - loss: 0.0012 - mae: 0.0215 - lr: 5.0119e-04\n",
      "Epoch 36/100\n",
      "193/193 [==============================] - 2s 11ms/step - loss: 0.0011 - mae: 0.0214 - lr: 5.6234e-04\n",
      "Epoch 37/100\n",
      "193/193 [==============================] - 2s 11ms/step - loss: 0.0011 - mae: 0.0212 - lr: 6.3096e-04\n",
      "Epoch 38/100\n",
      "193/193 [==============================] - 2s 11ms/step - loss: 0.0011 - mae: 0.0210 - lr: 7.0795e-04\n",
      "Epoch 39/100\n",
      "193/193 [==============================] - 2s 12ms/step - loss: 0.0011 - mae: 0.0207 - lr: 7.9433e-04\n",
      "Epoch 40/100\n",
      "193/193 [==============================] - 2s 11ms/step - loss: 0.0010 - mae: 0.0203 - lr: 8.9125e-04\n",
      "Epoch 41/100\n",
      "193/193 [==============================] - 2s 11ms/step - loss: 9.8050e-04 - mae: 0.0198 - lr: 0.0010\n",
      "Epoch 42/100\n",
      "193/193 [==============================] - 2s 11ms/step - loss: 9.2931e-04 - mae: 0.0192 - lr: 0.0011\n",
      "Epoch 43/100\n",
      "193/193 [==============================] - 2s 12ms/step - loss: 8.7510e-04 - mae: 0.0185 - lr: 0.0013\n",
      "Epoch 44/100\n",
      "193/193 [==============================] - 2s 12ms/step - loss: 8.1762e-04 - mae: 0.0178 - lr: 0.0014\n",
      "Epoch 45/100\n",
      "193/193 [==============================] - 2s 11ms/step - loss: 7.5439e-04 - mae: 0.0168 - lr: 0.0016\n",
      "Epoch 46/100\n",
      "193/193 [==============================] - 2s 11ms/step - loss: 7.2209e-04 - mae: 0.0163 - lr: 0.0018\n",
      "Epoch 47/100\n",
      "193/193 [==============================] - 2s 12ms/step - loss: 6.8164e-04 - mae: 0.0156 - lr: 0.0020\n",
      "Epoch 48/100\n",
      "193/193 [==============================] - 2s 12ms/step - loss: 6.5479e-04 - mae: 0.0153 - lr: 0.0022\n",
      "Epoch 49/100\n",
      "193/193 [==============================] - 2s 12ms/step - loss: 6.4092e-04 - mae: 0.0151 - lr: 0.0025\n",
      "Epoch 50/100\n",
      "193/193 [==============================] - 2s 12ms/step - loss: 6.4642e-04 - mae: 0.0151 - lr: 0.0028\n",
      "Epoch 51/100\n",
      "193/193 [==============================] - 3s 14ms/step - loss: 6.8956e-04 - mae: 0.0157 - lr: 0.0032\n",
      "Epoch 52/100\n",
      "193/193 [==============================] - 3s 13ms/step - loss: 7.6245e-04 - mae: 0.0167 - lr: 0.0035\n",
      "Epoch 53/100\n",
      "193/193 [==============================] - 2s 12ms/step - loss: 8.6714e-04 - mae: 0.0178 - lr: 0.0040\n",
      "Epoch 54/100\n",
      "193/193 [==============================] - 2s 12ms/step - loss: 0.0010 - mae: 0.0199 - lr: 0.0045\n",
      "Epoch 55/100\n",
      "193/193 [==============================] - 2s 12ms/step - loss: 0.0014 - mae: 0.0239 - lr: 0.0050\n",
      "Epoch 56/100\n",
      "193/193 [==============================] - 2s 11ms/step - loss: 0.0025 - mae: 0.0325 - lr: 0.0056\n",
      "Epoch 57/100\n",
      "193/193 [==============================] - 2s 11ms/step - loss: 0.0043 - mae: 0.0433 - lr: 0.0063\n",
      "Epoch 58/100\n",
      "193/193 [==============================] - 2s 10ms/step - loss: 0.0067 - mae: 0.0552 - lr: 0.0071\n",
      "Epoch 59/100\n",
      "193/193 [==============================] - 2s 10ms/step - loss: 0.0068 - mae: 0.0549 - lr: 0.0079\n",
      "Epoch 60/100\n",
      "193/193 [==============================] - 2s 10ms/step - loss: 0.0072 - mae: 0.0539 - lr: 0.0089\n",
      "Epoch 61/100\n",
      "193/193 [==============================] - 2s 10ms/step - loss: 0.0071 - mae: 0.0559 - lr: 0.0100\n",
      "Epoch 62/100\n",
      "193/193 [==============================] - 2s 11ms/step - loss: 0.0067 - mae: 0.0540 - lr: 0.0112\n",
      "Epoch 63/100\n",
      "193/193 [==============================] - 2s 10ms/step - loss: 0.0058 - mae: 0.0482 - lr: 0.0126\n",
      "Epoch 64/100\n",
      "193/193 [==============================] - 2s 10ms/step - loss: 0.0069 - mae: 0.0543 - lr: 0.0141\n",
      "Epoch 65/100\n",
      "193/193 [==============================] - 2s 10ms/step - loss: 0.0072 - mae: 0.0565 - lr: 0.0158\n",
      "Epoch 66/100\n",
      "193/193 [==============================] - 2s 10ms/step - loss: 0.0075 - mae: 0.0570 - lr: 0.0178\n",
      "Epoch 67/100\n",
      "193/193 [==============================] - 2s 11ms/step - loss: 0.0076 - mae: 0.0608 - lr: 0.0200\n",
      "Epoch 68/100\n",
      "193/193 [==============================] - 2s 10ms/step - loss: 0.0095 - mae: 0.0628 - lr: 0.0224\n",
      "Epoch 69/100\n",
      "193/193 [==============================] - 2s 10ms/step - loss: 0.0119 - mae: 0.0729 - lr: 0.0251\n",
      "Epoch 70/100\n",
      "193/193 [==============================] - 2s 10ms/step - loss: 0.0128 - mae: 0.0765 - lr: 0.0282\n",
      "Epoch 71/100\n",
      "193/193 [==============================] - 2s 11ms/step - loss: 0.0158 - mae: 0.0921 - lr: 0.0316\n",
      "Epoch 72/100\n",
      "193/193 [==============================] - 2s 11ms/step - loss: 0.0179 - mae: 0.0960 - lr: 0.0355\n",
      "Epoch 73/100\n",
      "193/193 [==============================] - 2s 10ms/step - loss: 0.0069 - mae: 0.0488 - lr: 0.0398\n",
      "Epoch 74/100\n",
      "193/193 [==============================] - 2s 11ms/step - loss: 0.0097 - mae: 0.0631 - lr: 0.0447\n",
      "Epoch 75/100\n",
      "193/193 [==============================] - 2s 10ms/step - loss: 0.0062 - mae: 0.0434 - lr: 0.0501\n",
      "Epoch 76/100\n",
      "193/193 [==============================] - 2s 11ms/step - loss: 0.0124 - mae: 0.0529 - lr: 0.0562\n",
      "Epoch 77/100\n",
      "193/193 [==============================] - 2s 11ms/step - loss: 0.0065 - mae: 0.0447 - lr: 0.0631\n",
      "Epoch 78/100\n",
      "193/193 [==============================] - 2s 11ms/step - loss: 0.0078 - mae: 0.0441 - lr: 0.0708\n",
      "Epoch 79/100\n",
      "193/193 [==============================] - 2s 11ms/step - loss: 0.0042 - mae: 0.0389 - lr: 0.0794\n",
      "Epoch 80/100\n",
      "193/193 [==============================] - 2s 11ms/step - loss: 0.0042 - mae: 0.0390 - lr: 0.0891\n",
      "Epoch 81/100\n",
      "193/193 [==============================] - 2s 11ms/step - loss: 0.0043 - mae: 0.0394 - lr: 0.1000\n",
      "Epoch 82/100\n",
      "193/193 [==============================] - 2s 10ms/step - loss: 0.0045 - mae: 0.0401 - lr: 0.1122\n",
      "Epoch 83/100\n",
      "193/193 [==============================] - 2s 11ms/step - loss: 0.0049 - mae: 0.0412 - lr: 0.1259\n",
      "Epoch 84/100\n",
      "193/193 [==============================] - 2s 10ms/step - loss: 0.0056 - mae: 0.0431 - lr: 0.1413\n",
      "Epoch 85/100\n",
      "193/193 [==============================] - 2s 11ms/step - loss: 0.0170 - mae: 0.0732 - lr: 0.1585\n",
      "Epoch 86/100\n",
      "193/193 [==============================] - 2s 11ms/step - loss: 0.0135 - mae: 0.0631 - lr: 0.1778\n",
      "Epoch 87/100\n",
      "193/193 [==============================] - 2s 10ms/step - loss: 0.0564 - mae: 0.0706 - lr: 0.1995\n",
      "Epoch 88/100\n",
      "193/193 [==============================] - 2s 10ms/step - loss: 0.0097 - mae: 0.0605 - lr: 0.2239\n",
      "Epoch 89/100\n",
      "193/193 [==============================] - 2s 10ms/step - loss: 0.0289 - mae: 0.0936 - lr: 0.2512\n",
      "Epoch 90/100\n",
      "193/193 [==============================] - 2s 10ms/step - loss: 0.1443 - mae: 0.0970 - lr: 0.2818\n",
      "Epoch 91/100\n",
      "193/193 [==============================] - 2s 12ms/step - loss: 0.0135 - mae: 0.0786 - lr: 0.3162\n",
      "Epoch 92/100\n",
      "193/193 [==============================] - 3s 14ms/step - loss: 0.0864 - mae: 0.1339 - lr: 0.3548\n",
      "Epoch 93/100\n",
      "193/193 [==============================] - 2s 12ms/step - loss: 0.0958 - mae: 0.1388 - lr: 0.3981\n",
      "Epoch 94/100\n",
      "193/193 [==============================] - 2s 12ms/step - loss: 0.1258 - mae: 0.1494 - lr: 0.4467\n",
      "Epoch 95/100\n",
      "193/193 [==============================] - 2s 12ms/step - loss: 0.1529 - mae: 0.1622 - lr: 0.5012\n",
      "Epoch 96/100\n",
      "193/193 [==============================] - 2s 11ms/step - loss: 0.1945 - mae: 0.1757 - lr: 0.5623\n",
      "Epoch 97/100\n",
      "193/193 [==============================] - 2s 12ms/step - loss: 0.2403 - mae: 0.1912 - lr: 0.6310\n",
      "Epoch 98/100\n",
      "193/193 [==============================] - 2s 12ms/step - loss: 0.3026 - mae: 0.2082 - lr: 0.7079\n",
      "Epoch 99/100\n",
      "193/193 [==============================] - 2s 12ms/step - loss: 0.3764 - mae: 0.2275 - lr: 0.7943\n",
      "Epoch 100/100\n",
      "193/193 [==============================] - 2s 12ms/step - loss: 0.4722 - mae: 0.2491 - lr: 0.8913\n"
     ]
    }
   ],
   "source": [
    "# reset any stored data\n",
    "keras.backend.clear_session()\n",
    "tf.random.set_seed(42)\n",
    "np.random.seed(42)\n",
    "\n",
    "# Set window size and create input batch sequences\n",
    "window_size = 20\n",
    "train_set = sequential_window_dataset(normalized_x_train, window_size)\n",
    "\n",
    "# create model\n",
    "model = keras.models.Sequential([\n",
    "  keras.layers.LSTM(100, return_sequences=True, stateful=True,\n",
    "                    batch_input_shape=[1, None, 1]),\n",
    "  keras.layers.LSTM(100, return_sequences=True, stateful=True),\n",
    "  keras.layers.Dense(1),\n",
    "])\n",
    "\n",
    "# run simulations for optimal learning rate\n",
    "lr_schedule = keras.callbacks.LearningRateScheduler(\n",
    "    lambda epoch: 1e-5 * 10**(epoch / 20))\n",
    "\n",
    "reset_states = ResetStatesCallback()\n",
    "\n",
    "# choose optimizer\n",
    "optimizer = keras.optimizers.Nadam(lr=1e-5)\n",
    "\n",
    "# compile model\n",
    "model.compile(loss=\"mean_squared_error\",\n",
    "              optimizer=optimizer,\n",
    "              metrics=[\"mae\"])\n",
    "\n",
    "# set history\n",
    "history = model.fit(train_set, epochs=100,\n",
    "                    callbacks=[lr_schedule, reset_states])"
   ]
  },
  {
   "cell_type": "code",
   "execution_count": 9,
   "metadata": {},
   "outputs": [
    {
     "data": {
      "image/png": "[encoded data removed]",
      "text/plain": [
       "<Figure size 720x720 with 1 Axes>"
      ]
     },
     "metadata": {},
     "output_type": "display_data"
    }
   ],
   "source": [
    "# Plot the learning rate chart\n",
    "plt.semilogx(history.history[\"lr\"], history.history[\"loss\"])\n",
    "plt.title('Learning rate chart', fontsize=18)\n",
    "plt.xlabel('Learning rate', fontsize=15)\n",
    "plt.ylabel('Loss', fontsize=15)\n",
    "plt.xticks(fontsize=15)\n",
    "plt.yticks(fontsize=15)\n",
    "plt.axis([1e-8, 1, 0, 0.01])\n",
    "plt.tight_layout()\n",
    "plt.show()"
   ]
  },
  {
   "cell_type": "markdown",
   "metadata": {},
   "source": [
    "## grid search to find optimal model"
   ]
  },
  {
   "cell_type": "code",
   "execution_count": 12,
   "metadata": {},
   "outputs": [
    {
     "name": "stdout",
     "output_type": "stream",
     "text": [
      "Total configs: 16\n"
     ]
    },
    {
     "data": {
      "text/plain": [
       "16"
      ]
     },
     "execution_count": 12,
     "metadata": {},
     "output_type": "execute_result"
    }
   ],
   "source": [
    "# create a list of configs to try\n",
    "def model_configs():\n",
    "    config = {}\n",
    "    # define scope of configs\n",
    "    n_epochs = [100, 500]\n",
    "    optimizers = [keras.optimizers.Adam(learning_rate=1e-3), keras.optimizers.Nadam(learning_rate=1e-3), keras.optimizers.SGD(learning_rate=1e-3), keras.optimizers.Adagrad(learning_rate=1e-3)]\n",
    "    losses = [keras.losses.MeanSquaredError(), keras.losses.MeanAbsoluteError()]\n",
    "    # Make a dictionary of the grid search parameters\n",
    "    configs = list()\n",
    "    for epoch in n_epochs:\n",
    "        for optim in optimizers:\n",
    "            for loss in losses:\n",
    "                param_grids = dict(optimizers = optim, loss = loss, epochs=epoch)    # create configs\n",
    "                configs.append(param_grids)\n",
    "    print('Total configs: %d' % len(configs))\n",
    "    return configs\n",
    "\n",
    "configs = model_configs()\n",
    "len(configs)"
   ]
  },
  {
   "cell_type": "code",
   "execution_count": null,
   "metadata": {},
   "outputs": [
    {
     "data": {
      "application/vnd.jupyter.widget-view+json": {
       "model_id": "7bd74c698a144b1188bbaa7d2e6884c9",
       "version_major": 2,
       "version_minor": 0
      },
      "text/plain": [
       "Progress:   0%|          | 0/16 [00:00<?, ?it/s]"
      ]
     },
     "metadata": {},
     "output_type": "display_data"
    },
    {
     "name": "stderr",
     "output_type": "stream",
     "text": [
      "WARNING:absl:Found untraced functions such as lstm_cell_layer_call_fn, lstm_cell_layer_call_and_return_conditional_losses, lstm_cell_1_layer_call_fn, lstm_cell_1_layer_call_and_return_conditional_losses while saving (showing 4 of 4). These functions will not be directly callable after loading.\n"
     ]
    },
    {
     "name": "stdout",
     "output_type": "stream",
     "text": [
      "INFO:tensorflow:Assets written to: my_checkpoint_lstm_1\\assets\n"
     ]
    },
    {
     "name": "stderr",
     "output_type": "stream",
     "text": [
      "INFO:tensorflow:Assets written to: my_checkpoint_lstm_1\\assets\n",
      "WARNING:absl:<keras.layers.recurrent.LSTMCell object at 0x000001D4A000F5E0> has the same name 'LSTMCell' as a built-in Keras object. Consider renaming <class 'keras.layers.recurrent.LSTMCell'> to avoid naming conflicts when loading with `tf.keras.models.load_model`. If renaming is not possible, pass the object in the `custom_objects` parameter of the load function.\n",
      "WARNING:absl:<keras.layers.recurrent.LSTMCell object at 0x000001D4A000FAC0> has the same name 'LSTMCell' as a built-in Keras object. Consider renaming <class 'keras.layers.recurrent.LSTMCell'> to avoid naming conflicts when loading with `tf.keras.models.load_model`. If renaming is not possible, pass the object in the `custom_objects` parameter of the load function.\n",
      "WARNING:absl:Found untraced functions such as lstm_cell_layer_call_fn, lstm_cell_layer_call_and_return_conditional_losses, lstm_cell_1_layer_call_fn, lstm_cell_1_layer_call_and_return_conditional_losses while saving (showing 4 of 4). These functions will not be directly callable after loading.\n"
     ]
    },
    {
     "name": "stdout",
     "output_type": "stream",
     "text": [
      "INFO:tensorflow:Assets written to: my_checkpoint_lstm_1\\assets\n"
     ]
    },
    {
     "name": "stderr",
     "output_type": "stream",
     "text": [
      "INFO:tensorflow:Assets written to: my_checkpoint_lstm_1\\assets\n",
      "WARNING:absl:<keras.layers.recurrent.LSTMCell object at 0x000001D4A000F5E0> has the same name 'LSTMCell' as a built-in Keras object. Consider renaming <class 'keras.layers.recurrent.LSTMCell'> to avoid naming conflicts when loading with `tf.keras.models.load_model`. If renaming is not possible, pass the object in the `custom_objects` parameter of the load function.\n",
      "WARNING:absl:<keras.layers.recurrent.LSTMCell object at 0x000001D4A000FAC0> has the same name 'LSTMCell' as a built-in Keras object. Consider renaming <class 'keras.layers.recurrent.LSTMCell'> to avoid naming conflicts when loading with `tf.keras.models.load_model`. If renaming is not possible, pass the object in the `custom_objects` parameter of the load function.\n",
      "WARNING:absl:Found untraced functions such as lstm_cell_layer_call_fn, lstm_cell_layer_call_and_return_conditional_losses, lstm_cell_1_layer_call_fn, lstm_cell_1_layer_call_and_return_conditional_losses while saving (showing 4 of 4). These functions will not be directly callable after loading.\n"
     ]
    },
    {
     "name": "stdout",
     "output_type": "stream",
     "text": [
      "INFO:tensorflow:Assets written to: my_checkpoint_lstm_1\\assets\n"
     ]
    },
    {
     "name": "stderr",
     "output_type": "stream",
     "text": [
      "INFO:tensorflow:Assets written to: my_checkpoint_lstm_1\\assets\n",
      "WARNING:absl:<keras.layers.recurrent.LSTMCell object at 0x000001D4A000F5E0> has the same name 'LSTMCell' as a built-in Keras object. Consider renaming <class 'keras.layers.recurrent.LSTMCell'> to avoid naming conflicts when loading with `tf.keras.models.load_model`. If renaming is not possible, pass the object in the `custom_objects` parameter of the load function.\n",
      "WARNING:absl:<keras.layers.recurrent.LSTMCell object at 0x000001D4A000FAC0> has the same name 'LSTMCell' as a built-in Keras object. Consider renaming <class 'keras.layers.recurrent.LSTMCell'> to avoid naming conflicts when loading with `tf.keras.models.load_model`. If renaming is not possible, pass the object in the `custom_objects` parameter of the load function.\n",
      "WARNING:absl:Found untraced functions such as lstm_cell_layer_call_fn, lstm_cell_layer_call_and_return_conditional_losses, lstm_cell_1_layer_call_fn, lstm_cell_1_layer_call_and_return_conditional_losses while saving (showing 4 of 4). These functions will not be directly callable after loading.\n"
     ]
    },
    {
     "name": "stdout",
     "output_type": "stream",
     "text": [
      "INFO:tensorflow:Assets written to: my_checkpoint_lstm_1\\assets\n"
     ]
    },
    {
     "name": "stderr",
     "output_type": "stream",
     "text": [
      "INFO:tensorflow:Assets written to: my_checkpoint_lstm_1\\assets\n",
      "WARNING:absl:<keras.layers.recurrent.LSTMCell object at 0x000001D4A000F5E0> has the same name 'LSTMCell' as a built-in Keras object. Consider renaming <class 'keras.layers.recurrent.LSTMCell'> to avoid naming conflicts when loading with `tf.keras.models.load_model`. If renaming is not possible, pass the object in the `custom_objects` parameter of the load function.\n",
      "WARNING:absl:<keras.layers.recurrent.LSTMCell object at 0x000001D4A000FAC0> has the same name 'LSTMCell' as a built-in Keras object. Consider renaming <class 'keras.layers.recurrent.LSTMCell'> to avoid naming conflicts when loading with `tf.keras.models.load_model`. If renaming is not possible, pass the object in the `custom_objects` parameter of the load function.\n",
      "WARNING:absl:Found untraced functions such as lstm_cell_layer_call_fn, lstm_cell_layer_call_and_return_conditional_losses, lstm_cell_1_layer_call_fn, lstm_cell_1_layer_call_and_return_conditional_losses while saving (showing 4 of 4). These functions will not be directly callable after loading.\n"
     ]
    },
    {
     "name": "stdout",
     "output_type": "stream",
     "text": [
      "INFO:tensorflow:Assets written to: my_checkpoint_lstm_1\\assets\n"
     ]
    },
    {
     "name": "stderr",
     "output_type": "stream",
     "text": [
      "INFO:tensorflow:Assets written to: my_checkpoint_lstm_1\\assets\n",
      "WARNING:absl:<keras.layers.recurrent.LSTMCell object at 0x000001D4A000F5E0> has the same name 'LSTMCell' as a built-in Keras object. Consider renaming <class 'keras.layers.recurrent.LSTMCell'> to avoid naming conflicts when loading with `tf.keras.models.load_model`. If renaming is not possible, pass the object in the `custom_objects` parameter of the load function.\n",
      "WARNING:absl:<keras.layers.recurrent.LSTMCell object at 0x000001D4A000FAC0> has the same name 'LSTMCell' as a built-in Keras object. Consider renaming <class 'keras.layers.recurrent.LSTMCell'> to avoid naming conflicts when loading with `tf.keras.models.load_model`. If renaming is not possible, pass the object in the `custom_objects` parameter of the load function.\n",
      "WARNING:absl:Found untraced functions such as lstm_cell_layer_call_fn, lstm_cell_layer_call_and_return_conditional_losses, lstm_cell_1_layer_call_fn, lstm_cell_1_layer_call_and_return_conditional_losses while saving (showing 4 of 4). These functions will not be directly callable after loading.\n"
     ]
    },
    {
     "name": "stdout",
     "output_type": "stream",
     "text": [
      "INFO:tensorflow:Assets written to: my_checkpoint_lstm_1\\assets\n"
     ]
    },
    {
     "name": "stderr",
     "output_type": "stream",
     "text": [
      "INFO:tensorflow:Assets written to: my_checkpoint_lstm_1\\assets\n",
      "WARNING:absl:<keras.layers.recurrent.LSTMCell object at 0x000001D4A000F5E0> has the same name 'LSTMCell' as a built-in Keras object. Consider renaming <class 'keras.layers.recurrent.LSTMCell'> to avoid naming conflicts when loading with `tf.keras.models.load_model`. If renaming is not possible, pass the object in the `custom_objects` parameter of the load function.\n",
      "WARNING:absl:<keras.layers.recurrent.LSTMCell object at 0x000001D4A000FAC0> has the same name 'LSTMCell' as a built-in Keras object. Consider renaming <class 'keras.layers.recurrent.LSTMCell'> to avoid naming conflicts when loading with `tf.keras.models.load_model`. If renaming is not possible, pass the object in the `custom_objects` parameter of the load function.\n",
      "WARNING:absl:Found untraced functions such as lstm_cell_layer_call_fn, lstm_cell_layer_call_and_return_conditional_losses, lstm_cell_1_layer_call_fn, lstm_cell_1_layer_call_and_return_conditional_losses while saving (showing 4 of 4). These functions will not be directly callable after loading.\n"
     ]
    },
    {
     "name": "stdout",
     "output_type": "stream",
     "text": [
      "INFO:tensorflow:Assets written to: my_checkpoint_lstm_1\\assets\n"
     ]
    },
    {
     "name": "stderr",
     "output_type": "stream",
     "text": [
      "INFO:tensorflow:Assets written to: my_checkpoint_lstm_1\\assets\n",
      "WARNING:absl:<keras.layers.recurrent.LSTMCell object at 0x000001D4A000F5E0> has the same name 'LSTMCell' as a built-in Keras object. Consider renaming <class 'keras.layers.recurrent.LSTMCell'> to avoid naming conflicts when loading with `tf.keras.models.load_model`. If renaming is not possible, pass the object in the `custom_objects` parameter of the load function.\n",
      "WARNING:absl:<keras.layers.recurrent.LSTMCell object at 0x000001D4A000FAC0> has the same name 'LSTMCell' as a built-in Keras object. Consider renaming <class 'keras.layers.recurrent.LSTMCell'> to avoid naming conflicts when loading with `tf.keras.models.load_model`. If renaming is not possible, pass the object in the `custom_objects` parameter of the load function.\n",
      "WARNING:absl:Found untraced functions such as lstm_cell_layer_call_fn, lstm_cell_layer_call_and_return_conditional_losses, lstm_cell_1_layer_call_fn, lstm_cell_1_layer_call_and_return_conditional_losses while saving (showing 4 of 4). These functions will not be directly callable after loading.\n"
     ]
    },
    {
     "name": "stdout",
     "output_type": "stream",
     "text": [
      "INFO:tensorflow:Assets written to: my_checkpoint_lstm_1\\assets\n"
     ]
    },
    {
     "name": "stderr",
     "output_type": "stream",
     "text": [
      "INFO:tensorflow:Assets written to: my_checkpoint_lstm_1\\assets\n",
      "WARNING:absl:<keras.layers.recurrent.LSTMCell object at 0x000001D4A000F5E0> has the same name 'LSTMCell' as a built-in Keras object. Consider renaming <class 'keras.layers.recurrent.LSTMCell'> to avoid naming conflicts when loading with `tf.keras.models.load_model`. If renaming is not possible, pass the object in the `custom_objects` parameter of the load function.\n",
      "WARNING:absl:<keras.layers.recurrent.LSTMCell object at 0x000001D4A000FAC0> has the same name 'LSTMCell' as a built-in Keras object. Consider renaming <class 'keras.layers.recurrent.LSTMCell'> to avoid naming conflicts when loading with `tf.keras.models.load_model`. If renaming is not possible, pass the object in the `custom_objects` parameter of the load function.\n",
      "WARNING:absl:Found untraced functions such as lstm_cell_layer_call_fn, lstm_cell_layer_call_and_return_conditional_losses, lstm_cell_1_layer_call_fn, lstm_cell_1_layer_call_and_return_conditional_losses while saving (showing 4 of 4). These functions will not be directly callable after loading.\n"
     ]
    },
    {
     "name": "stdout",
     "output_type": "stream",
     "text": [
      "INFO:tensorflow:Assets written to: my_checkpoint_lstm_1\\assets\n"
     ]
    },
    {
     "name": "stderr",
     "output_type": "stream",
     "text": [
      "INFO:tensorflow:Assets written to: my_checkpoint_lstm_1\\assets\n",
      "WARNING:absl:<keras.layers.recurrent.LSTMCell object at 0x000001D4A000F5E0> has the same name 'LSTMCell' as a built-in Keras object. Consider renaming <class 'keras.layers.recurrent.LSTMCell'> to avoid naming conflicts when loading with `tf.keras.models.load_model`. If renaming is not possible, pass the object in the `custom_objects` parameter of the load function.\n",
      "WARNING:absl:<keras.layers.recurrent.LSTMCell object at 0x000001D4A000FAC0> has the same name 'LSTMCell' as a built-in Keras object. Consider renaming <class 'keras.layers.recurrent.LSTMCell'> to avoid naming conflicts when loading with `tf.keras.models.load_model`. If renaming is not possible, pass the object in the `custom_objects` parameter of the load function.\n",
      "WARNING:absl:Found untraced functions such as lstm_cell_layer_call_fn, lstm_cell_layer_call_and_return_conditional_losses, lstm_cell_1_layer_call_fn, lstm_cell_1_layer_call_and_return_conditional_losses while saving (showing 4 of 4). These functions will not be directly callable after loading.\n"
     ]
    },
    {
     "name": "stdout",
     "output_type": "stream",
     "text": [
      "INFO:tensorflow:Assets written to: my_checkpoint_lstm_1\\assets\n"
     ]
    },
    {
     "name": "stderr",
     "output_type": "stream",
     "text": [
      "INFO:tensorflow:Assets written to: my_checkpoint_lstm_1\\assets\n",
      "WARNING:absl:<keras.layers.recurrent.LSTMCell object at 0x000001D4A000F5E0> has the same name 'LSTMCell' as a built-in Keras object. Consider renaming <class 'keras.layers.recurrent.LSTMCell'> to avoid naming conflicts when loading with `tf.keras.models.load_model`. If renaming is not possible, pass the object in the `custom_objects` parameter of the load function.\n",
      "WARNING:absl:<keras.layers.recurrent.LSTMCell object at 0x000001D4A000FAC0> has the same name 'LSTMCell' as a built-in Keras object. Consider renaming <class 'keras.layers.recurrent.LSTMCell'> to avoid naming conflicts when loading with `tf.keras.models.load_model`. If renaming is not possible, pass the object in the `custom_objects` parameter of the load function.\n",
      "WARNING:absl:Found untraced functions such as lstm_cell_layer_call_fn, lstm_cell_layer_call_and_return_conditional_losses, lstm_cell_1_layer_call_fn, lstm_cell_1_layer_call_and_return_conditional_losses while saving (showing 4 of 4). These functions will not be directly callable after loading.\n"
     ]
    },
    {
     "name": "stdout",
     "output_type": "stream",
     "text": [
      "INFO:tensorflow:Assets written to: my_checkpoint_lstm_1\\assets\n"
     ]
    },
    {
     "name": "stderr",
     "output_type": "stream",
     "text": [
      "INFO:tensorflow:Assets written to: my_checkpoint_lstm_1\\assets\n",
      "WARNING:absl:<keras.layers.recurrent.LSTMCell object at 0x000001D4A000F5E0> has the same name 'LSTMCell' as a built-in Keras object. Consider renaming <class 'keras.layers.recurrent.LSTMCell'> to avoid naming conflicts when loading with `tf.keras.models.load_model`. If renaming is not possible, pass the object in the `custom_objects` parameter of the load function.\n",
      "WARNING:absl:<keras.layers.recurrent.LSTMCell object at 0x000001D4A000FAC0> has the same name 'LSTMCell' as a built-in Keras object. Consider renaming <class 'keras.layers.recurrent.LSTMCell'> to avoid naming conflicts when loading with `tf.keras.models.load_model`. If renaming is not possible, pass the object in the `custom_objects` parameter of the load function.\n",
      "WARNING:absl:Found untraced functions such as lstm_cell_layer_call_fn, lstm_cell_layer_call_and_return_conditional_losses, lstm_cell_1_layer_call_fn, lstm_cell_1_layer_call_and_return_conditional_losses while saving (showing 4 of 4). These functions will not be directly callable after loading.\n"
     ]
    },
    {
     "name": "stdout",
     "output_type": "stream",
     "text": [
      "INFO:tensorflow:Assets written to: my_checkpoint_lstm_1\\assets\n"
     ]
    },
    {
     "name": "stderr",
     "output_type": "stream",
     "text": [
      "INFO:tensorflow:Assets written to: my_checkpoint_lstm_1\\assets\n",
      "WARNING:absl:<keras.layers.recurrent.LSTMCell object at 0x000001D4A000F5E0> has the same name 'LSTMCell' as a built-in Keras object. Consider renaming <class 'keras.layers.recurrent.LSTMCell'> to avoid naming conflicts when loading with `tf.keras.models.load_model`. If renaming is not possible, pass the object in the `custom_objects` parameter of the load function.\n",
      "WARNING:absl:<keras.layers.recurrent.LSTMCell object at 0x000001D4A000FAC0> has the same name 'LSTMCell' as a built-in Keras object. Consider renaming <class 'keras.layers.recurrent.LSTMCell'> to avoid naming conflicts when loading with `tf.keras.models.load_model`. If renaming is not possible, pass the object in the `custom_objects` parameter of the load function.\n",
      "WARNING:absl:Found untraced functions such as lstm_cell_layer_call_fn, lstm_cell_layer_call_and_return_conditional_losses, lstm_cell_1_layer_call_fn, lstm_cell_1_layer_call_and_return_conditional_losses while saving (showing 4 of 4). These functions will not be directly callable after loading.\n"
     ]
    },
    {
     "name": "stdout",
     "output_type": "stream",
     "text": [
      "INFO:tensorflow:Assets written to: my_checkpoint_lstm_1\\assets\n"
     ]
    },
    {
     "name": "stderr",
     "output_type": "stream",
     "text": [
      "INFO:tensorflow:Assets written to: my_checkpoint_lstm_1\\assets\n",
      "WARNING:absl:<keras.layers.recurrent.LSTMCell object at 0x000001D4A000F5E0> has the same name 'LSTMCell' as a built-in Keras object. Consider renaming <class 'keras.layers.recurrent.LSTMCell'> to avoid naming conflicts when loading with `tf.keras.models.load_model`. If renaming is not possible, pass the object in the `custom_objects` parameter of the load function.\n",
      "WARNING:absl:<keras.layers.recurrent.LSTMCell object at 0x000001D4A000FAC0> has the same name 'LSTMCell' as a built-in Keras object. Consider renaming <class 'keras.layers.recurrent.LSTMCell'> to avoid naming conflicts when loading with `tf.keras.models.load_model`. If renaming is not possible, pass the object in the `custom_objects` parameter of the load function.\n",
      "WARNING:absl:Found untraced functions such as lstm_cell_layer_call_fn, lstm_cell_layer_call_and_return_conditional_losses, lstm_cell_1_layer_call_fn, lstm_cell_1_layer_call_and_return_conditional_losses while saving (showing 4 of 4). These functions will not be directly callable after loading.\n"
     ]
    },
    {
     "name": "stdout",
     "output_type": "stream",
     "text": [
      "INFO:tensorflow:Assets written to: my_checkpoint_lstm_1\\assets\n"
     ]
    },
    {
     "name": "stderr",
     "output_type": "stream",
     "text": [
      "INFO:tensorflow:Assets written to: my_checkpoint_lstm_1\\assets\n",
      "WARNING:absl:<keras.layers.recurrent.LSTMCell object at 0x000001D4A000F5E0> has the same name 'LSTMCell' as a built-in Keras object. Consider renaming <class 'keras.layers.recurrent.LSTMCell'> to avoid naming conflicts when loading with `tf.keras.models.load_model`. If renaming is not possible, pass the object in the `custom_objects` parameter of the load function.\n",
      "WARNING:absl:<keras.layers.recurrent.LSTMCell object at 0x000001D4A000FAC0> has the same name 'LSTMCell' as a built-in Keras object. Consider renaming <class 'keras.layers.recurrent.LSTMCell'> to avoid naming conflicts when loading with `tf.keras.models.load_model`. If renaming is not possible, pass the object in the `custom_objects` parameter of the load function.\n",
      "WARNING:absl:Found untraced functions such as lstm_cell_layer_call_fn, lstm_cell_layer_call_and_return_conditional_losses, lstm_cell_1_layer_call_fn, lstm_cell_1_layer_call_and_return_conditional_losses while saving (showing 4 of 4). These functions will not be directly callable after loading.\n"
     ]
    },
    {
     "name": "stdout",
     "output_type": "stream",
     "text": [
      "INFO:tensorflow:Assets written to: my_checkpoint_lstm_1\\assets\n"
     ]
    },
    {
     "name": "stderr",
     "output_type": "stream",
     "text": [
      "INFO:tensorflow:Assets written to: my_checkpoint_lstm_1\\assets\n",
      "WARNING:absl:<keras.layers.recurrent.LSTMCell object at 0x000001D4A000F5E0> has the same name 'LSTMCell' as a built-in Keras object. Consider renaming <class 'keras.layers.recurrent.LSTMCell'> to avoid naming conflicts when loading with `tf.keras.models.load_model`. If renaming is not possible, pass the object in the `custom_objects` parameter of the load function.\n",
      "WARNING:absl:<keras.layers.recurrent.LSTMCell object at 0x000001D4A000FAC0> has the same name 'LSTMCell' as a built-in Keras object. Consider renaming <class 'keras.layers.recurrent.LSTMCell'> to avoid naming conflicts when loading with `tf.keras.models.load_model`. If renaming is not possible, pass the object in the `custom_objects` parameter of the load function.\n",
      "WARNING:absl:Found untraced functions such as lstm_cell_layer_call_fn, lstm_cell_layer_call_and_return_conditional_losses, lstm_cell_1_layer_call_fn, lstm_cell_1_layer_call_and_return_conditional_losses while saving (showing 4 of 4). These functions will not be directly callable after loading.\n"
     ]
    },
    {
     "name": "stdout",
     "output_type": "stream",
     "text": [
      "INFO:tensorflow:Assets written to: my_checkpoint_lstm_1\\assets\n"
     ]
    },
    {
     "name": "stderr",
     "output_type": "stream",
     "text": [
      "INFO:tensorflow:Assets written to: my_checkpoint_lstm_1\\assets\n",
      "WARNING:absl:<keras.layers.recurrent.LSTMCell object at 0x000001D4A000F5E0> has the same name 'LSTMCell' as a built-in Keras object. Consider renaming <class 'keras.layers.recurrent.LSTMCell'> to avoid naming conflicts when loading with `tf.keras.models.load_model`. If renaming is not possible, pass the object in the `custom_objects` parameter of the load function.\n",
      "WARNING:absl:<keras.layers.recurrent.LSTMCell object at 0x000001D4A000FAC0> has the same name 'LSTMCell' as a built-in Keras object. Consider renaming <class 'keras.layers.recurrent.LSTMCell'> to avoid naming conflicts when loading with `tf.keras.models.load_model`. If renaming is not possible, pass the object in the `custom_objects` parameter of the load function.\n",
      "WARNING:absl:Found untraced functions such as lstm_cell_layer_call_fn, lstm_cell_layer_call_and_return_conditional_losses, lstm_cell_1_layer_call_fn, lstm_cell_1_layer_call_and_return_conditional_losses while saving (showing 4 of 4). These functions will not be directly callable after loading.\n"
     ]
    },
    {
     "name": "stdout",
     "output_type": "stream",
     "text": [
      "INFO:tensorflow:Assets written to: my_checkpoint_lstm_1\\assets\n"
     ]
    },
    {
     "name": "stderr",
     "output_type": "stream",
     "text": [
      "INFO:tensorflow:Assets written to: my_checkpoint_lstm_1\\assets\n",
      "WARNING:absl:<keras.layers.recurrent.LSTMCell object at 0x000001D4A000F5E0> has the same name 'LSTMCell' as a built-in Keras object. Consider renaming <class 'keras.layers.recurrent.LSTMCell'> to avoid naming conflicts when loading with `tf.keras.models.load_model`. If renaming is not possible, pass the object in the `custom_objects` parameter of the load function.\n",
      "WARNING:absl:<keras.layers.recurrent.LSTMCell object at 0x000001D4A000FAC0> has the same name 'LSTMCell' as a built-in Keras object. Consider renaming <class 'keras.layers.recurrent.LSTMCell'> to avoid naming conflicts when loading with `tf.keras.models.load_model`. If renaming is not possible, pass the object in the `custom_objects` parameter of the load function.\n",
      "WARNING:absl:Found untraced functions such as lstm_cell_layer_call_fn, lstm_cell_layer_call_and_return_conditional_losses, lstm_cell_1_layer_call_fn, lstm_cell_1_layer_call_and_return_conditional_losses while saving (showing 4 of 4). These functions will not be directly callable after loading.\n"
     ]
    },
    {
     "name": "stdout",
     "output_type": "stream",
     "text": [
      "INFO:tensorflow:Assets written to: my_checkpoint_lstm_1\\assets\n"
     ]
    },
    {
     "name": "stderr",
     "output_type": "stream",
     "text": [
      "INFO:tensorflow:Assets written to: my_checkpoint_lstm_1\\assets\n",
      "WARNING:absl:<keras.layers.recurrent.LSTMCell object at 0x000001D4A000F5E0> has the same name 'LSTMCell' as a built-in Keras object. Consider renaming <class 'keras.layers.recurrent.LSTMCell'> to avoid naming conflicts when loading with `tf.keras.models.load_model`. If renaming is not possible, pass the object in the `custom_objects` parameter of the load function.\n",
      "WARNING:absl:<keras.layers.recurrent.LSTMCell object at 0x000001D4A000FAC0> has the same name 'LSTMCell' as a built-in Keras object. Consider renaming <class 'keras.layers.recurrent.LSTMCell'> to avoid naming conflicts when loading with `tf.keras.models.load_model`. If renaming is not possible, pass the object in the `custom_objects` parameter of the load function.\n",
      "WARNING:absl:Found untraced functions such as lstm_cell_2_layer_call_fn, lstm_cell_2_layer_call_and_return_conditional_losses, lstm_cell_3_layer_call_fn, lstm_cell_3_layer_call_and_return_conditional_losses while saving (showing 4 of 4). These functions will not be directly callable after loading.\n"
     ]
    },
    {
     "name": "stdout",
     "output_type": "stream",
     "text": [
      "INFO:tensorflow:Assets written to: my_checkpoint_lstm_2\\assets\n"
     ]
    },
    {
     "name": "stderr",
     "output_type": "stream",
     "text": [
      "INFO:tensorflow:Assets written to: my_checkpoint_lstm_2\\assets\n",
      "WARNING:absl:<keras.layers.recurrent.LSTMCell object at 0x000001D4A22FD310> has the same name 'LSTMCell' as a built-in Keras object. Consider renaming <class 'keras.layers.recurrent.LSTMCell'> to avoid naming conflicts when loading with `tf.keras.models.load_model`. If renaming is not possible, pass the object in the `custom_objects` parameter of the load function.\n",
      "WARNING:absl:<keras.layers.recurrent.LSTMCell object at 0x000001D5427723D0> has the same name 'LSTMCell' as a built-in Keras object. Consider renaming <class 'keras.layers.recurrent.LSTMCell'> to avoid naming conflicts when loading with `tf.keras.models.load_model`. If renaming is not possible, pass the object in the `custom_objects` parameter of the load function.\n",
      "WARNING:absl:Found untraced functions such as lstm_cell_2_layer_call_fn, lstm_cell_2_layer_call_and_return_conditional_losses, lstm_cell_3_layer_call_fn, lstm_cell_3_layer_call_and_return_conditional_losses while saving (showing 4 of 4). These functions will not be directly callable after loading.\n"
     ]
    },
    {
     "name": "stdout",
     "output_type": "stream",
     "text": [
      "INFO:tensorflow:Assets written to: my_checkpoint_lstm_2\\assets\n"
     ]
    },
    {
     "name": "stderr",
     "output_type": "stream",
     "text": [
      "INFO:tensorflow:Assets written to: my_checkpoint_lstm_2\\assets\n",
      "WARNING:absl:<keras.layers.recurrent.LSTMCell object at 0x000001D4A22FD310> has the same name 'LSTMCell' as a built-in Keras object. Consider renaming <class 'keras.layers.recurrent.LSTMCell'> to avoid naming conflicts when loading with `tf.keras.models.load_model`. If renaming is not possible, pass the object in the `custom_objects` parameter of the load function.\n",
      "WARNING:absl:<keras.layers.recurrent.LSTMCell object at 0x000001D5427723D0> has the same name 'LSTMCell' as a built-in Keras object. Consider renaming <class 'keras.layers.recurrent.LSTMCell'> to avoid naming conflicts when loading with `tf.keras.models.load_model`. If renaming is not possible, pass the object in the `custom_objects` parameter of the load function.\n",
      "WARNING:absl:Found untraced functions such as lstm_cell_2_layer_call_fn, lstm_cell_2_layer_call_and_return_conditional_losses, lstm_cell_3_layer_call_fn, lstm_cell_3_layer_call_and_return_conditional_losses while saving (showing 4 of 4). These functions will not be directly callable after loading.\n"
     ]
    },
    {
     "name": "stdout",
     "output_type": "stream",
     "text": [
      "INFO:tensorflow:Assets written to: my_checkpoint_lstm_2\\assets\n"
     ]
    },
    {
     "name": "stderr",
     "output_type": "stream",
     "text": [
      "INFO:tensorflow:Assets written to: my_checkpoint_lstm_2\\assets\n",
      "WARNING:absl:<keras.layers.recurrent.LSTMCell object at 0x000001D4A22FD310> has the same name 'LSTMCell' as a built-in Keras object. Consider renaming <class 'keras.layers.recurrent.LSTMCell'> to avoid naming conflicts when loading with `tf.keras.models.load_model`. If renaming is not possible, pass the object in the `custom_objects` parameter of the load function.\n",
      "WARNING:absl:<keras.layers.recurrent.LSTMCell object at 0x000001D5427723D0> has the same name 'LSTMCell' as a built-in Keras object. Consider renaming <class 'keras.layers.recurrent.LSTMCell'> to avoid naming conflicts when loading with `tf.keras.models.load_model`. If renaming is not possible, pass the object in the `custom_objects` parameter of the load function.\n",
      "WARNING:absl:Found untraced functions such as lstm_cell_2_layer_call_fn, lstm_cell_2_layer_call_and_return_conditional_losses, lstm_cell_3_layer_call_fn, lstm_cell_3_layer_call_and_return_conditional_losses while saving (showing 4 of 4). These functions will not be directly callable after loading.\n"
     ]
    },
    {
     "name": "stdout",
     "output_type": "stream",
     "text": [
      "INFO:tensorflow:Assets written to: my_checkpoint_lstm_2\\assets\n"
     ]
    },
    {
     "name": "stderr",
     "output_type": "stream",
     "text": [
      "INFO:tensorflow:Assets written to: my_checkpoint_lstm_2\\assets\n",
      "WARNING:absl:<keras.layers.recurrent.LSTMCell object at 0x000001D4A22FD310> has the same name 'LSTMCell' as a built-in Keras object. Consider renaming <class 'keras.layers.recurrent.LSTMCell'> to avoid naming conflicts when loading with `tf.keras.models.load_model`. If renaming is not possible, pass the object in the `custom_objects` parameter of the load function.\n",
      "WARNING:absl:<keras.layers.recurrent.LSTMCell object at 0x000001D5427723D0> has the same name 'LSTMCell' as a built-in Keras object. Consider renaming <class 'keras.layers.recurrent.LSTMCell'> to avoid naming conflicts when loading with `tf.keras.models.load_model`. If renaming is not possible, pass the object in the `custom_objects` parameter of the load function.\n",
      "WARNING:absl:Found untraced functions such as lstm_cell_2_layer_call_fn, lstm_cell_2_layer_call_and_return_conditional_losses, lstm_cell_3_layer_call_fn, lstm_cell_3_layer_call_and_return_conditional_losses while saving (showing 4 of 4). These functions will not be directly callable after loading.\n"
     ]
    },
    {
     "name": "stdout",
     "output_type": "stream",
     "text": [
      "INFO:tensorflow:Assets written to: my_checkpoint_lstm_2\\assets\n"
     ]
    },
    {
     "name": "stderr",
     "output_type": "stream",
     "text": [
      "INFO:tensorflow:Assets written to: my_checkpoint_lstm_2\\assets\n",
      "WARNING:absl:<keras.layers.recurrent.LSTMCell object at 0x000001D4A22FD310> has the same name 'LSTMCell' as a built-in Keras object. Consider renaming <class 'keras.layers.recurrent.LSTMCell'> to avoid naming conflicts when loading with `tf.keras.models.load_model`. If renaming is not possible, pass the object in the `custom_objects` parameter of the load function.\n",
      "WARNING:absl:<keras.layers.recurrent.LSTMCell object at 0x000001D5427723D0> has the same name 'LSTMCell' as a built-in Keras object. Consider renaming <class 'keras.layers.recurrent.LSTMCell'> to avoid naming conflicts when loading with `tf.keras.models.load_model`. If renaming is not possible, pass the object in the `custom_objects` parameter of the load function.\n",
      "WARNING:absl:Found untraced functions such as lstm_cell_2_layer_call_fn, lstm_cell_2_layer_call_and_return_conditional_losses, lstm_cell_3_layer_call_fn, lstm_cell_3_layer_call_and_return_conditional_losses while saving (showing 4 of 4). These functions will not be directly callable after loading.\n"
     ]
    },
    {
     "name": "stdout",
     "output_type": "stream",
     "text": [
      "INFO:tensorflow:Assets written to: my_checkpoint_lstm_2\\assets\n"
     ]
    },
    {
     "name": "stderr",
     "output_type": "stream",
     "text": [
      "INFO:tensorflow:Assets written to: my_checkpoint_lstm_2\\assets\n",
      "WARNING:absl:<keras.layers.recurrent.LSTMCell object at 0x000001D4A22FD310> has the same name 'LSTMCell' as a built-in Keras object. Consider renaming <class 'keras.layers.recurrent.LSTMCell'> to avoid naming conflicts when loading with `tf.keras.models.load_model`. If renaming is not possible, pass the object in the `custom_objects` parameter of the load function.\n",
      "WARNING:absl:<keras.layers.recurrent.LSTMCell object at 0x000001D5427723D0> has the same name 'LSTMCell' as a built-in Keras object. Consider renaming <class 'keras.layers.recurrent.LSTMCell'> to avoid naming conflicts when loading with `tf.keras.models.load_model`. If renaming is not possible, pass the object in the `custom_objects` parameter of the load function.\n",
      "WARNING:absl:Found untraced functions such as lstm_cell_2_layer_call_fn, lstm_cell_2_layer_call_and_return_conditional_losses, lstm_cell_3_layer_call_fn, lstm_cell_3_layer_call_and_return_conditional_losses while saving (showing 4 of 4). These functions will not be directly callable after loading.\n"
     ]
    },
    {
     "name": "stdout",
     "output_type": "stream",
     "text": [
      "INFO:tensorflow:Assets written to: my_checkpoint_lstm_2\\assets\n"
     ]
    },
    {
     "name": "stderr",
     "output_type": "stream",
     "text": [
      "INFO:tensorflow:Assets written to: my_checkpoint_lstm_2\\assets\n",
      "WARNING:absl:<keras.layers.recurrent.LSTMCell object at 0x000001D4A22FD310> has the same name 'LSTMCell' as a built-in Keras object. Consider renaming <class 'keras.layers.recurrent.LSTMCell'> to avoid naming conflicts when loading with `tf.keras.models.load_model`. If renaming is not possible, pass the object in the `custom_objects` parameter of the load function.\n",
      "WARNING:absl:<keras.layers.recurrent.LSTMCell object at 0x000001D5427723D0> has the same name 'LSTMCell' as a built-in Keras object. Consider renaming <class 'keras.layers.recurrent.LSTMCell'> to avoid naming conflicts when loading with `tf.keras.models.load_model`. If renaming is not possible, pass the object in the `custom_objects` parameter of the load function.\n"
     ]
    }
   ],
   "source": [
    "from tqdm.notebook import tqdm, trange\n",
    "\n",
    "# reset any stored data\n",
    "keras.backend.clear_session()\n",
    "tf.random.set_seed(42)\n",
    "np.random.seed(42)\n",
    "\n",
    "# set window size and create input batch sequence\n",
    "window_size = 20\n",
    "train_set = sequential_window_dataset(normalized_x_train, window_size)\n",
    "valid_set = sequential_window_dataset(normalized_x_valid, window_size)\n",
    "\n",
    "x=1\n",
    "\n",
    "for config in tqdm(configs, desc=\"Progress\"):\n",
    "    # create model\n",
    "    model = keras.models.Sequential([\n",
    "      keras.layers.LSTM(100, return_sequences=True, stateful=True,\n",
    "                         batch_input_shape=[1, None, 1]),\n",
    "      keras.layers.LSTM(100, return_sequences=True, stateful=True),\n",
    "      keras.layers.Dense(1),\n",
    "    ])\n",
    "\n",
    "    # set optimizer\n",
    "    optimizer = config[\"optimizers\"]\n",
    "\n",
    "    # compile model\n",
    "    model.compile(loss=config[\"loss\"],\n",
    "                  optimizer=optimizer,\n",
    "                  metrics=[\"mae\"])\n",
    "\n",
    "    # reset states\n",
    "    reset_states = ResetStatesCallback()\n",
    "\n",
    "    #set up save best only checkpoint\n",
    "    model_checkpoint = keras.callbacks.ModelCheckpoint(\n",
    "        \"my_checkpoint_lstm_\"+str(x), save_best_only=True, verbose=0)\n",
    "\n",
    "    x = x+1\n",
    "\n",
    "    early_stopping = keras.callbacks.EarlyStopping(patience=50)\n",
    "\n",
    "    # fit model\n",
    "    model.fit(train_set, epochs=config[\"epochs\"],\n",
    "              validation_data=valid_set,\n",
    "              callbacks=[early_stopping, model_checkpoint, reset_states], verbose=0)"
   ]
  },
  {
   "cell_type": "code",
   "execution_count": null,
   "metadata": {},
   "outputs": [],
   "source": [
    "mae_df = pd.DataFrame(columns=[\"MAE score\", \"config\"])\n",
    "   \n",
    "for a in range(1, 17):\n",
    "    config = configs[a-1]\n",
    "    optim = config[\"optimizers\"].__class__.__name__\n",
    "    loss = config[\"loss\"].__class__.__name__\n",
    "    \n",
    "    config_list = (config[\"epochs\"], optim, loss)\n",
    "    \n",
    "    model = keras.models.load_model(\"my_checkpoint_lstm_\"+str(a))\n",
    "    dense_forecast = model_forecast(model, forex_normalized_to_traindata.flatten()[-test_split_index - window_size:-1], window_size)[:, 0]\n",
    "    # Undo the scaling\n",
    "    dense_forecast = x_train_scaler.inverse_transform(dense_forecast.reshape(-1,1)).flatten()\n",
    "    mae_score = keras.metrics.mean_absolute_error(x_test, dense_forecast).numpy()\n",
    "    \n",
    "    mae_df.loc[len(mae_df.index)] = [mae_score, config_list]\n",
    "\n",
    "mae_df = mae_df.sort_values(by = \"MAE score\")\n",
    "print(mae_df)"
   ]
  },
  {
   "cell_type": "code",
   "execution_count": null,
   "metadata": {},
   "outputs": [],
   "source": [
    "mae_df.to_csv(\"LSTM simulations\")"
   ]
  },
  {
   "cell_type": "markdown",
   "metadata": {
    "colab_type": "text",
    "id": "7EyiYesc-EPU"
   },
   "source": [
    "## Build and Train LSTM Model with optimal configuration"
   ]
  },
  {
   "cell_type": "code",
   "execution_count": null,
   "metadata": {
    "colab": {
     "base_uri": "https://localhost:8080/",
     "height": 1000
    },
    "colab_type": "code",
    "id": "hiHR5pPL8OJP",
    "outputId": "f45ec9c3-b1c0-4e87-b3ab-32c137222988"
   },
   "outputs": [],
   "source": [
    "# reset any stored data\n",
    "keras.backend.clear_session()\n",
    "tf.random.set_seed(42)\n",
    "np.random.seed(42)\n",
    "\n",
    "# set window size and create input batch sequence\n",
    "window_size = 20\n",
    "train_set = sequential_window_dataset(normalized_x_train, window_size)\n",
    "valid_set = sequential_window_dataset(normalized_x_valid, window_size)\n",
    "\n",
    "# create model\n",
    "model = keras.models.Sequential([\n",
    "  keras.layers.LSTM(100, return_sequences=True, stateful=True,\n",
    "                         batch_input_shape=[1, None, 1]),\n",
    "  keras.layers.LSTM(100, return_sequences=True, stateful=True),\n",
    "  keras.layers.Dense(1),\n",
    "])\n",
    "\n",
    "# set optimizer\n",
    "optimizer = keras.optimizers.Nadam(lr=1e-3)\n",
    "\n",
    "# compile model\n",
    "model.compile(loss=\"mean_absolute_error\",\n",
    "              optimizer=optimizer,\n",
    "              metrics=[\"mae\"])\n",
    "\n",
    "# reset states\n",
    "reset_states = ResetStatesCallback()\n",
    "\n",
    "# save best only checkpoint\n",
    "model_checkpoint = keras.callbacks.ModelCheckpoint(\n",
    "    \"my_checkpoint\", save_best_only=True)\n",
    "\n",
    "early_stopping = keras.callbacks.EarlyStopping(patience=50)\n",
    "\n",
    "# fit model\n",
    "model.fit(train_set, epochs=500,\n",
    "          validation_data=valid_set,\n",
    "          callbacks=[early_stopping, model_checkpoint, reset_states])"
   ]
  },
  {
   "cell_type": "markdown",
   "metadata": {
    "colab_type": "text",
    "id": "kVkhv3sk-LlA"
   },
   "source": [
    "## Make Predictions"
   ]
  },
  {
   "cell_type": "code",
   "execution_count": null,
   "metadata": {
    "colab": {},
    "colab_type": "code",
    "id": "nPeZUfQy8OJQ"
   },
   "outputs": [],
   "source": [
    "# recall best model\n",
    "model = keras.models.load_model(\"my_checkpoint\")"
   ]
  },
  {
   "cell_type": "code",
   "execution_count": 13,
   "metadata": {
    "colab": {},
    "colab_type": "code",
    "id": "4tFrq5uW8OJR"
   },
   "outputs": [],
   "source": [
    "# make predictions\n",
    "rnn_forecast = model.predict(normalized_x_test[np.newaxis,:])\n",
    "rnn_forecast = rnn_forecast.flatten()"
   ]
  },
  {
   "cell_type": "code",
   "execution_count": 14,
   "metadata": {
    "colab": {
     "base_uri": "https://localhost:8080/",
     "height": 33
    },
    "colab_type": "code",
    "id": "gsSbjyD8r66o",
    "outputId": "e75ed9ed-3968-4028-9441-61e3b6ecc067"
   },
   "outputs": [
    {
     "data": {
      "text/plain": [
       "(485,)"
      ]
     },
     "execution_count": 14,
     "metadata": {},
     "output_type": "execute_result"
    }
   ],
   "source": [
    "# inverse the scaling/normalization applied to data earlier\n",
    "rnn_unscaled_forecast = x_train_scaler.inverse_transform(rnn_forecast.reshape(-1,1)).flatten()\n",
    "rnn_unscaled_forecast.shape"
   ]
  },
  {
   "cell_type": "code",
   "execution_count": 15,
   "metadata": {
    "colab": {
     "base_uri": "https://localhost:8080/",
     "height": 410
    },
    "colab_type": "code",
    "id": "ZfaR6nqj8OJT",
    "outputId": "d90cbcf3-3a0e-4e50-d995-89ef602779a9"
   },
   "outputs": [
    {
     "data": {
      "image/png": "[encoded data removed]",
      "text/plain": [
       "<Figure size 1080x504 with 1 Axes>"
      ]
     },
     "metadata": {},
     "output_type": "display_data"
    }
   ],
   "source": [
    "# plot results\n",
    "plt.figure(figsize=(15, 7))\n",
    "plt.title(f'LSTM {window_size} Forecast', fontsize=18)\n",
    "plot_series(x_test.index, x_test, label=\"Actual\")\n",
    "plot_series(x_test.index, rnn_unscaled_forecast, label=\"Forecast\")\n",
    "plt.xticks(fontsize=15)\n",
    "plt.yticks(fontsize=15)\n",
    "plt.ylabel('Forex Rate : GBPUSD', fontsize=15)\n",
    "plt.xlabel('Timestep in Years', fontsize=15)\n",
    "plt.tight_layout()\n",
    "plt.show()"
   ]
  },
  {
   "cell_type": "code",
   "execution_count": 18,
   "metadata": {},
   "outputs": [
    {
     "data": {
      "text/html": [
       "<div>\n",
       "<style scoped>\n",
       "    .dataframe tbody tr th:only-of-type {\n",
       "        vertical-align: middle;\n",
       "    }\n",
       "\n",
       "    .dataframe tbody tr th {\n",
       "        vertical-align: top;\n",
       "    }\n",
       "\n",
       "    .dataframe thead th {\n",
       "        text-align: right;\n",
       "    }\n",
       "</style>\n",
       "<table border=\"1\" class=\"dataframe\">\n",
       "  <thead>\n",
       "    <tr style=\"text-align: right;\">\n",
       "      <th></th>\n",
       "      <th>Model</th>\n",
       "      <th>MAE</th>\n",
       "      <th>MAPE in %</th>\n",
       "    </tr>\n",
       "  </thead>\n",
       "  <tbody>\n",
       "    <tr>\n",
       "      <th>0</th>\n",
       "      <td>Naive Model</td>\n",
       "      <td>0.004958</td>\n",
       "      <td>0.374773</td>\n",
       "    </tr>\n",
       "    <tr>\n",
       "      <th>1</th>\n",
       "      <td>MA5</td>\n",
       "      <td>0.011715</td>\n",
       "      <td>0.890453</td>\n",
       "    </tr>\n",
       "    <tr>\n",
       "      <th>2</th>\n",
       "      <td>MA20</td>\n",
       "      <td>0.024235</td>\n",
       "      <td>1.840606</td>\n",
       "    </tr>\n",
       "    <tr>\n",
       "      <th>3</th>\n",
       "      <td>ARIMA (0,1,0)</td>\n",
       "      <td>0.004958</td>\n",
       "      <td>0.374773</td>\n",
       "    </tr>\n",
       "    <tr>\n",
       "      <th>4</th>\n",
       "      <td>Linear model (MA5, MA20)</td>\n",
       "      <td>0.005484</td>\n",
       "      <td>0.414356</td>\n",
       "    </tr>\n",
       "    <tr>\n",
       "      <th>5</th>\n",
       "      <td>Dense Neural Network</td>\n",
       "      <td>0.011224</td>\n",
       "      <td>0.858841</td>\n",
       "    </tr>\n",
       "    <tr>\n",
       "      <th>6</th>\n",
       "      <td>LSTM</td>\n",
       "      <td>0.002854</td>\n",
       "      <td>0.211474</td>\n",
       "    </tr>\n",
       "  </tbody>\n",
       "</table>\n",
       "</div>"
      ],
      "text/plain": [
       "                      Model       MAE  MAPE in %\n",
       "0               Naive Model  0.004958   0.374773\n",
       "1                       MA5  0.011715   0.890453\n",
       "2                      MA20  0.024235   1.840606\n",
       "3             ARIMA (0,1,0)  0.004958   0.374773\n",
       "4  Linear model (MA5, MA20)  0.005484   0.414356\n",
       "5      Dense Neural Network  0.011224   0.858841\n",
       "6                      LSTM  0.002854   0.211474"
      ]
     },
     "execution_count": 18,
     "metadata": {},
     "output_type": "execute_result"
    }
   ],
   "source": [
    "# MAE\n",
    "lstm_mae = keras.metrics.mean_absolute_error(x_test, rnn_unscaled_forecast).numpy()\n",
    "\n",
    "# Using the mean_absolute_percentage_error function\n",
    "from sklearn.metrics import mean_absolute_percentage_error\n",
    "\n",
    "# MAPE\n",
    "lstm_mape = mean_absolute_percentage_error(x_test, rnn_unscaled_forecast) * 100\n",
    "\n",
    "# add scores alongside its name \n",
    "model_scores.loc[len(model_scores.index)] = [\"LSTM\", lstm_mae, lstm_mape]\n",
    "\n",
    "# view the dataframe of scores\n",
    "model_scores"
   ]
  },
  {
   "cell_type": "code",
   "execution_count": 19,
   "metadata": {},
   "outputs": [],
   "source": [
    "model_scores.to_csv(\"./Model scores.csv\")"
   ]
  },
  {
   "cell_type": "code",
   "execution_count": null,
   "metadata": {},
   "outputs": [],
   "source": []
  }
 ],
 "metadata": {
  "accelerator": "GPU",
  "colab": {
   "collapsed_sections": [],
   "name": "LSTM Model.ipynb",
   "provenance": [],
   "toc_visible": true
  },
  "kernelspec": {
   "display_name": "Python 3 (ipykernel)",
   "language": "python",
   "name": "python3"
  },
  "language_info": {
   "codemirror_mode": {
    "name": "ipython",
    "version": 3
   },
   "file_extension": ".py",
   "mimetype": "text/x-python",
   "name": "python",
   "nbconvert_exporter": "python",
   "pygments_lexer": "ipython3",
   "version": "3.8.8"
  }
 },
 "nbformat": 4,
 "nbformat_minor": 4
}
