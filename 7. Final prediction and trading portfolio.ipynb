{
 "cells": [
  {
   "cell_type": "code",
   "execution_count": 1,
   "metadata": {
    "colab": {
     "base_uri": "https://localhost:8080/",
     "height": 50
    },
    "colab_type": "code",
    "id": "gqWabzlJ63nL",
    "outputId": "78765880-4bb8-41ca-923c-955826ee4301"
   },
   "outputs": [
    {
     "name": "stderr",
     "output_type": "stream",
     "text": [
      "C:\\Users\\Ananya\\anaconda3\\lib\\site-packages\\numpy\\_distributor_init.py:30: UserWarning: loaded more than 1 DLL from .libs:\n",
      "C:\\Users\\Ananya\\anaconda3\\lib\\site-packages\\numpy\\.libs\\libopenblas.EL2C6PLE4ZYW3ECEVIV3OXXGRN2NRFM2.gfortran-win_amd64.dll\n",
      "C:\\Users\\Ananya\\anaconda3\\lib\\site-packages\\numpy\\.libs\\libopenblas.FB5AE2TYXYH2IJRDKGDGQ3XBKLKTF43H.gfortran-win_amd64.dll\n",
      "  warnings.warn(\"loaded more than 1 DLL from .libs:\"\n",
      "<frozen importlib._bootstrap>:219: RuntimeWarning: scipy._lib.messagestream.MessageStream size changed, may indicate binary incompatibility. Expected 56 from C header, got 64 from PyObject\n"
     ]
    }
   ],
   "source": [
    "import sys\n",
    "import os\n",
    "import warnings\n",
    "\n",
    "import numpy as np\n",
    "import pandas as pd\n",
    "import tensorflow as tf\n",
    "from sklearn.preprocessing import MinMaxScaler"
   ]
  },
  {
   "cell_type": "code",
   "execution_count": 2,
   "metadata": {},
   "outputs": [],
   "source": [
    "if not sys.warnoptions:\n",
    "    warnings.simplefilter(\"ignore\")\n",
    "    os.environ[\"PYTHONWARNINGS\"] = \"ignore\" # Also affect subprocesses\n",
    "\n",
    "keras = tf.keras"
   ]
  },
  {
   "cell_type": "code",
   "execution_count": 3,
   "metadata": {
    "colab": {},
    "colab_type": "code",
    "id": "cg1hfKCPldZG"
   },
   "outputs": [],
   "source": [
    "def sequential_window_dataset(series, window_size):\n",
    "    ds = tf.data.Dataset.from_tensor_slices(series)\n",
    "    ds = ds.window(window_size + 1, shift=window_size, drop_remainder=True)\n",
    "    ds = ds.flat_map(lambda window: window.batch(window_size + 1))\n",
    "    ds = ds.map(lambda window: (window[:-1], window[1:]))\n",
    "    return ds.batch(1).prefetch(1)"
   ]
  },
  {
   "cell_type": "code",
   "execution_count": 4,
   "metadata": {
    "colab": {},
    "colab_type": "code",
    "id": "iL2DDjV3lel6"
   },
   "outputs": [
    {
     "name": "stdout",
     "output_type": "stream",
     "text": [
      "4852\n"
     ]
    }
   ],
   "source": [
    "# Read in data\n",
    "forex = pd.read_csv('./GBPUSD.csv')\n",
    "\n",
    "# Convert series into datetime type\n",
    "forex.index = pd.to_datetime(forex['Date'])\n",
    "\n",
    "# Save target series\n",
    "series = forex['Close']\n",
    "\n",
    "#Size of exchange rates\n",
    "total_size = forex.shape[0]\n",
    "print(total_size)\n",
    "\n",
    "# getting 1 week of future predictions\n",
    "n_days = 5\n",
    "\n",
    "#Use 80% of data as training, rest 20% to Validate \n",
    "valid_split_index = int(total_size * 0.8)\n",
    "x_train = forex.iloc[0:valid_split_index].Close\n",
    "x_valid = forex.iloc[valid_split_index:-n_days].Close\n",
    "\n",
    "# test set is last 5 dates from the data collected\n",
    "x_test = forex.iloc[-n_days:total_size].Close"
   ]
  },
  {
   "cell_type": "code",
   "execution_count": 5,
   "metadata": {
    "colab": {},
    "colab_type": "code",
    "id": "1GiizAJ_oQjk"
   },
   "outputs": [],
   "source": [
    "# Reshape the datsets\n",
    "x_train_values = x_train.values.reshape(-1, 1)\n",
    "x_valid_values = x_valid.values.reshape(-1, 1)\n",
    "x_test_values = x_test.values.reshape(-1, 1)\n",
    "\n",
    "# Create a Scaler Object\n",
    "x_train_scaler = MinMaxScaler(feature_range=(0, 1))\n",
    "\n",
    "# normalize training data\n",
    "normalized_x_train = x_train_scaler.fit_transform(x_train_values)\n",
    "\n",
    "# normalize validation data\n",
    "normalized_x_valid = x_train_scaler.transform(x_valid_values)\n",
    "\n",
    "# normalize test data\n",
    "normalized_x_test = x_train_scaler.transform(x_test_values)\n",
    "\n",
    "# Normalized to training data\n",
    "forex_normalized_to_traindata = x_train_scaler.transform(series.values.reshape(-1, 1))"
   ]
  },
  {
   "cell_type": "code",
   "execution_count": 6,
   "metadata": {
    "colab": {},
    "colab_type": "code",
    "id": "9fPenJpTtuDE"
   },
   "outputs": [],
   "source": [
    "class ResetStatesCallback(keras.callbacks.Callback):\n",
    "    def on_epoch_begin(self, epoch, logs):\n",
    "        self.model.reset_states()"
   ]
  },
  {
   "cell_type": "markdown",
   "metadata": {
    "colab_type": "text",
    "id": "7EyiYesc-EPU"
   },
   "source": [
    "## Build and Train LSTM Model"
   ]
  },
  {
   "cell_type": "code",
   "execution_count": null,
   "metadata": {
    "colab": {
     "base_uri": "https://localhost:8080/",
     "height": 1000
    },
    "colab_type": "code",
    "id": "hiHR5pPL8OJP",
    "outputId": "f45ec9c3-b1c0-4e87-b3ab-32c137222988"
   },
   "outputs": [],
   "source": [
    "# reset any stored data\n",
    "keras.backend.clear_session()\n",
    "tf.random.set_seed(42)\n",
    "np.random.seed(42)\n",
    "\n",
    "# set window size and create input batch sequence\n",
    "window_size = 20\n",
    "train_set = sequential_window_dataset(normalized_x_train, window_size)\n",
    "valid_set = sequential_window_dataset(normalized_x_valid, window_size)\n",
    "\n",
    "# create model\n",
    "model = keras.models.Sequential([\n",
    "  keras.layers.LSTM(100, return_sequences=True, stateful=True,\n",
    "                         batch_input_shape=[1, None, 1]),\n",
    "  keras.layers.LSTM(100, return_sequences=True, stateful=True),\n",
    "  keras.layers.Dense(1),\n",
    "])\n",
    "\n",
    "# set optimizer\n",
    "optimizer = keras.optimizers.Nadam(lr=1e-4)\n",
    "\n",
    "# compile model\n",
    "model.compile(loss=\"mean_squared_error\",\n",
    "              optimizer=optimizer,\n",
    "              metrics=[\"mae\"])\n",
    "\n",
    "# reset states\n",
    "reset_states = ResetStatesCallback()\n",
    "\n",
    "#set up save best only checkpoint\n",
    "model_checkpoint = keras.callbacks.ModelCheckpoint(\n",
    "    \"lstm_model\", save_best_only=True)\n",
    "\n",
    "early_stopping = keras.callbacks.EarlyStopping(patience=50)\n",
    "\n",
    "# fit model\n",
    "model.fit(train_set, epochs=500,\n",
    "          validation_data=valid_set,\n",
    "          callbacks=[early_stopping, model_checkpoint, reset_states], verbose=0)"
   ]
  },
  {
   "cell_type": "markdown",
   "metadata": {
    "colab_type": "text",
    "id": "kVkhv3sk-LlA"
   },
   "source": [
    "## Make Predictions"
   ]
  },
  {
   "cell_type": "code",
   "execution_count": 8,
   "metadata": {
    "colab": {},
    "colab_type": "code",
    "id": "nPeZUfQy8OJQ"
   },
   "outputs": [],
   "source": [
    "# recall best model\n",
    "model = keras.models.load_model(\"lstm_model\")"
   ]
  },
  {
   "cell_type": "code",
   "execution_count": 27,
   "metadata": {},
   "outputs": [
    {
     "data": {
      "text/plain": [
       "array([1.1860942, 1.1837622, 1.1865613, 1.1759346, 1.1772939],\n",
       "      dtype=float32)"
      ]
     },
     "execution_count": 27,
     "metadata": {},
     "output_type": "execute_result"
    }
   ],
   "source": [
    "# make predictions\n",
    "rnn_forecast = model.predict(normalized_x_test[np.newaxis,:])\n",
    "rnn_forecast = rnn_forecast.flatten()\n",
    "\n",
    "rnn_unscaled_forecast = x_train_scaler.inverse_transform(rnn_forecast.reshape(-1,1)).flatten()\n",
    "rnn_unscaled_forecast"
   ]
  },
  {
   "cell_type": "markdown",
   "metadata": {},
   "source": [
    "# Trading Algorithm"
   ]
  },
  {
   "cell_type": "code",
   "execution_count": 69,
   "metadata": {},
   "outputs": [
    {
     "name": "stdout",
     "output_type": "stream",
     "text": [
      "Starting the trading for this week using predicted values for 5 days.... \n",
      "\n",
      "For  2022-08-24 00:00:00  : Selling\n",
      "For  2022-08-25 00:00:00  : Buying\n",
      "For  2022-08-26 00:00:00  : Selling\n",
      "For  2022-08-29 00:00:00  : Buying\n",
      "For  2022-08-30 00:00:00  : Selling\n",
      "\n",
      "###################################################\n",
      "\n",
      "Original capital =  100 , and New Capital =  114.10991288293145\n",
      "Total profit/loss generated =  14.109912882931454\n",
      "% change in current capital =  14.109912882931452\n",
      "\n",
      "Original investment =  117.66505241394043 , and New Investment =  103.55513953100898\n",
      "Total increase/decrease in potfolio generated =  -14.109912882931454\n",
      "% change in current investment =  -11.991591890252517\n",
      "\n",
      "Original units held =  100.0 , and New units held =  87.98040316040468\n"
     ]
    }
   ],
   "source": [
    "# let us start with 100 GBP already being invested and 100 USD at our disposal for more investment\n",
    "last_week_closing_price = x_valid[-1]\n",
    "\n",
    "# all prices are in USD\n",
    "invested = 100 * last_week_closing_price\n",
    "capital = 100\n",
    "original_capital = capital\n",
    "original_invested = invested\n",
    "\n",
    "\n",
    "risk_margin = 0.001\n",
    "\n",
    "print(\"Starting the trading for this week using predicted values for 5 days.... \\n\")\n",
    "# using prediicted prices\n",
    "for price_number in range(0, len(rnn_unscaled_forecast)):\n",
    "    if price_number == 0:\n",
    "        last_closing_price = last_week_closing_price\n",
    "    else: \n",
    "        last_closing_price = rnn_unscaled_forecast[price_number-1]\n",
    "        \n",
    "    rate = rnn_unscaled_forecast[price_number]\n",
    "    \n",
    "    price_change_rate = (rate - last_closing_price)/last_closing_price\n",
    "    \n",
    "    if price_change_rate > risk_margin:\n",
    "        # consider SELL\n",
    "        print(\"For \", x_test.index[price_number], \" : Selling\")\n",
    "        current_units = invested / last_closing_price\n",
    "        units_sell = 0.1 * current_units\n",
    "        invested = invested - (units_sell * rate)\n",
    "        capital = capital + (units_sell * rate)\n",
    "    \n",
    "    elif price_change_rate < -risk_margin:\n",
    "        # consider BUY\n",
    "        print(\"For \", x_test.index[price_number], \" : Buying\")\n",
    "        current_units = invested / last_closing_price\n",
    "        units_sell = 0.1 * current_units\n",
    "        invested = invested + (units_sell * rate)\n",
    "        capital = capital - (units_sell * rate)\n",
    "        \n",
    "    else:\n",
    "        # HOLD\n",
    "        print(\"For \", x_test.index[price_number], \" : Holding\")\n",
    "        \n",
    "print(\"\\n###################################################\\n\")\n",
    "        \n",
    "new_capital = (capital - original_capital)\n",
    "percent_new_capital = (new_capital/original_capital) * 100\n",
    "print(\"Original capital = \", original_capital, \", and New Capital = \", capital)\n",
    "print(\"Total profit/loss generated = \", new_capital)\n",
    "print(\"% change in current capital = \", percent_new_capital)\n",
    "new_invested = (invested - original_invested)\n",
    "percent_new_invested = (new_invested/original_invested) * 100\n",
    "print(\"\\nOriginal investment = \", original_invested, \", and New Investment = \", invested)\n",
    "print(\"Total increase/decrease in potfolio generated = \", new_invested)\n",
    "print(\"% change in current investment = \", percent_new_invested)\n",
    "print(\"\\nOriginal units held = \", original_invested/last_week_closing_price, \", and New units held = \", invested_actual/rnn_unscaled_forecast[-1])"
   ]
  },
  {
   "cell_type": "code",
   "execution_count": 70,
   "metadata": {},
   "outputs": [
    {
     "name": "stdout",
     "output_type": "stream",
     "text": [
      "Starting the trading for this week using actual values for 5 days.... \n",
      "\n",
      "For  2022-08-24 00:00:00  : Selling\n",
      "For  2022-08-25 00:00:00  : Buying\n",
      "For  2022-08-26 00:00:00  : Selling\n",
      "For  2022-08-29 00:00:00  : Buying\n",
      "For  2022-08-30 00:00:00  : Selling\n",
      "\n",
      "###################################################\n",
      "\n",
      "Original capital =  100 , and New Capital =  114.08626074618046\n",
      "Total profit/loss generated =  14.086260746180457\n",
      "% change in current capital =  14.086260746180457\n",
      "\n",
      "Original investment =  117.66505241394043 , and New Investment =  103.57879166775997\n",
      "Total increase/decrease in potfolio generated =  -14.086260746180457\n",
      "% change in current investment =  -11.971490648409027\n",
      "\n",
      "Original units held =  100.0 , and New units held =  88.35892230318701\n"
     ]
    }
   ],
   "source": [
    "# let us start with 100 GBP already being invested and 100 USD at our disposal for more investment\n",
    "last_week_closing_price = x_valid[-1]\n",
    "\n",
    "# all prices are in USD\n",
    "invested_actual = 100 * last_week_closing_price\n",
    "capital_actual = 100\n",
    "original_capital_actual = capital_actual\n",
    "original_invested_actual = invested_actual\n",
    "\n",
    "\n",
    "risk_margin = 0.001\n",
    "\n",
    "print(\"Starting the trading for this week using actual values for 5 days.... \\n\")\n",
    "# using prediicted prices\n",
    "for price_number in range(0, len(x_test)):\n",
    "    if price_number == 0:\n",
    "        last_closing_price_actual = last_week_closing_price\n",
    "    else: \n",
    "        last_closing_price_actual = x_test[price_number-1]\n",
    "        \n",
    "    rate_actual = x_test[price_number]\n",
    "    \n",
    "    price_change_rate_actual = (rate_actual - last_closing_price_actual)/last_closing_price_actual\n",
    "    \n",
    "    if price_change_rate_actual > risk_margin:\n",
    "        # consider SELL\n",
    "        print(\"For \", x_test.index[price_number], \" : Selling\")\n",
    "        current_units = invested_actual / last_closing_price_actual\n",
    "        units_sell = 0.1 * current_units\n",
    "        invested_actual = invested_actual - (units_sell * rate_actual)\n",
    "        capital_actual = capital_actual + (units_sell * rate_actual)\n",
    "    \n",
    "    elif price_change_rate_actual < -risk_margin:\n",
    "        # consider BUY\n",
    "        print(\"For \", x_test.index[price_number], \" : Buying\")\n",
    "        current_units = invested_actual / last_closing_price_actual\n",
    "        units_sell = 0.1 * current_units\n",
    "        invested_actual = invested_actual + (units_sell * rate)\n",
    "        capital_actual = capital_actual - (units_sell * rate)\n",
    "        \n",
    "    else:\n",
    "        # HOLD\n",
    "        print(\"For \", x_test.index[price_number], \" : Holding\")\n",
    "        \n",
    "print(\"\\n###################################################\\n\")\n",
    "        \n",
    "new_capital_actual = (capital_actual - original_capital_actual)\n",
    "percent_new_capital_actual = (new_capital_actual/original_capital_actual) * 100\n",
    "print(\"Original capital = \", original_capital_actual, \", and New Capital = \", capital_actual)\n",
    "print(\"Total profit/loss generated = \", new_capital_actual)\n",
    "print(\"% change in current capital = \", percent_new_capital_actual)\n",
    "new_invested_actual = (invested_actual - original_invested_actual)\n",
    "percent_new_invested_actual = (new_invested_actual/original_invested_actual) * 100\n",
    "print(\"\\nOriginal investment = \", original_invested_actual, \", and New Investment = \", invested_actual)\n",
    "print(\"Total increase/decrease in potfolio generated = \", new_invested_actual)\n",
    "print(\"% change in current investment = \", percent_new_invested_actual)\n",
    "print(\"\\nOriginal units held = \", original_invested_actual/last_week_closing_price, \", and New units held = \", invested_actual/x_test[-1])\n"
   ]
  },
  {
   "cell_type": "code",
   "execution_count": null,
   "metadata": {},
   "outputs": [],
   "source": []
  }
 ],
 "metadata": {
  "accelerator": "GPU",
  "colab": {
   "collapsed_sections": [],
   "name": "LSTM Model.ipynb",
   "provenance": [],
   "toc_visible": true
  },
  "kernelspec": {
   "display_name": "Python 3 (ipykernel)",
   "language": "python",
   "name": "python3"
  },
  "language_info": {
   "codemirror_mode": {
    "name": "ipython",
    "version": 3
   },
   "file_extension": ".py",
   "mimetype": "text/x-python",
   "name": "python",
   "nbconvert_exporter": "python",
   "pygments_lexer": "ipython3",
   "version": "3.8.8"
  }
 },
 "nbformat": 4,
 "nbformat_minor": 4
}
