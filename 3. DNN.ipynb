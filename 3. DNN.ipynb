{
 "cells": [
  {
   "cell_type": "markdown",
   "metadata": {
    "colab_type": "text",
    "id": "dPVvzVmcuG44"
   },
   "source": [
    "# DNN"
   ]
  },
  {
   "cell_type": "markdown",
   "metadata": {
    "colab_type": "text",
    "id": "vidayERjaO5q"
   },
   "source": [
    "## Setup"
   ]
  },
  {
   "cell_type": "code",
   "execution_count": 1,
   "metadata": {
    "colab": {
     "base_uri": "https://localhost:8080/",
     "height": 50
    },
    "colab_type": "code",
    "id": "gqWabzlJ63nL",
    "outputId": "d7289e37-c4d6-4688-9bd8-bb696973e6ed"
   },
   "outputs": [
    {
     "name": "stderr",
     "output_type": "stream",
     "text": [
      "C:\\Users\\Ananya\\anaconda3\\lib\\site-packages\\numpy\\_distributor_init.py:30: UserWarning: loaded more than 1 DLL from .libs:\n",
      "C:\\Users\\Ananya\\anaconda3\\lib\\site-packages\\numpy\\.libs\\libopenblas.EL2C6PLE4ZYW3ECEVIV3OXXGRN2NRFM2.gfortran-win_amd64.dll\n",
      "C:\\Users\\Ananya\\anaconda3\\lib\\site-packages\\numpy\\.libs\\libopenblas.FB5AE2TYXYH2IJRDKGDGQ3XBKLKTF43H.gfortran-win_amd64.dll\n",
      "  warnings.warn(\"loaded more than 1 DLL from .libs:\"\n",
      "<frozen importlib._bootstrap>:219: RuntimeWarning: scipy._lib.messagestream.MessageStream size changed, may indicate binary incompatibility. Expected 56 from C header, got 64 from PyObject\n"
     ]
    }
   ],
   "source": [
    "import numpy as np\n",
    "import pandas as pd\n",
    "import matplotlib.pyplot as plt\n",
    "import tensorflow as tf\n",
    "import seaborn as sns\n",
    "\n",
    "from sklearn.preprocessing import MinMaxScaler\n",
    "\n",
    "import sys\n",
    "import os\n",
    "import warnings\n",
    "\n",
    "keras = tf.keras\n",
    "\n",
    "# set style of charts\n",
    "sns.set(style=\"darkgrid\")\n",
    "plt.rcParams['figure.figsize'] = [10, 10]"
   ]
  },
  {
   "cell_type": "code",
   "execution_count": 2,
   "metadata": {},
   "outputs": [],
   "source": [
    "if not sys.warnoptions:\n",
    "    warnings.simplefilter(\"ignore\")\n",
    "    os.environ[\"PYTHONWARNINGS\"] = \"ignore\" # Also affect subprocesses"
   ]
  },
  {
   "cell_type": "code",
   "execution_count": 3,
   "metadata": {
    "colab": {},
    "colab_type": "code",
    "id": "cg1hfKCPldZG"
   },
   "outputs": [],
   "source": [
    "def plot_series(time, series, format=\"-\", start=0, end=None, label=None):\n",
    "    plt.plot(time[start:end], series[start:end], format, label=label)\n",
    "    plt.xlabel(\"Time\")\n",
    "    plt.ylabel(\"Value\")\n",
    "    if label:\n",
    "        plt.legend(fontsize=14)\n",
    "    plt.grid(True)\n",
    "\n",
    "def model_forecast(model, series, window_size):\n",
    "    ds = tf.data.Dataset.from_tensor_slices(series)\n",
    "    ds = ds.window(window_size, shift=1, drop_remainder=True)\n",
    "    ds = ds.flat_map(lambda w: w.batch(window_size))\n",
    "    ds = ds.batch(32).prefetch(1)\n",
    "    forecast = model.predict(ds)\n",
    "    return forecast\n",
    "\n",
    "def window_dataset(series, window_size, batch_size=128,\n",
    "                   shuffle_buffer=1000):\n",
    "    dataset = tf.data.Dataset.from_tensor_slices(series)\n",
    "    dataset = dataset.window(window_size + 1, shift=1, drop_remainder=True)\n",
    "    dataset = dataset.flat_map(lambda window: window.batch(window_size + 1))\n",
    "    dataset = dataset.shuffle(shuffle_buffer)\n",
    "    dataset = dataset.map(lambda window: (window[:-1], window[-1]))\n",
    "    dataset = dataset.batch(batch_size).prefetch(1)\n",
    "    return dataset"
   ]
  },
  {
   "cell_type": "code",
   "execution_count": 5,
   "metadata": {
    "colab": {},
    "colab_type": "code",
    "id": "Zmp1JXKxk9Vb"
   },
   "outputs": [
    {
     "name": "stdout",
     "output_type": "stream",
     "text": [
      "4852\n"
     ]
    }
   ],
   "source": [
    "# Read in data\n",
    "df = pd.read_csv('./GBPUSD.csv')\n",
    "\n",
    "# Convert series into datetime type\n",
    "df.index = pd.to_datetime(df['Date'])\n",
    "\n",
    "# Save target series\n",
    "series = df['Close']\n",
    "\n",
    "#Size of exchange rates\n",
    "total_size = df.shape[0]\n",
    "print(total_size)\n",
    "\n",
    "#Use 70% of data as training, rest 10% to Validation, and 10% to Test model\n",
    "valid_split_index = int(total_size * 0.8)\n",
    "test_split_index = int(total_size * 0.1)\n",
    "x_train = df.iloc[0:valid_split_index].Close\n",
    "x_valid = df.iloc[valid_split_index:-test_split_index].Close\n",
    "x_test = df.iloc[-test_split_index:total_size].Close"
   ]
  },
  {
   "cell_type": "code",
   "execution_count": 6,
   "metadata": {
    "colab": {},
    "colab_type": "code",
    "id": "xTOs5lgVEtuG"
   },
   "outputs": [],
   "source": [
    "# Reshape the datsets\n",
    "x_train_values = x_train.values.reshape(-1, 1)\n",
    "x_valid_values = x_valid.values.reshape(-1, 1)\n",
    "x_test_values = x_test.values.reshape(-1, 1)\n",
    "\n",
    "# Create a Scaler Object\n",
    "x_train_scaler = MinMaxScaler(feature_range=(0, 1))\n",
    "\n",
    "# normalize training data\n",
    "normalized_x_train = x_train_scaler.fit_transform(x_train_values)\n",
    "\n",
    "# normalize validation data\n",
    "normalized_x_valid = x_train_scaler.transform(x_valid_values)\n",
    "\n",
    "# normalize test data\n",
    "normalized_x_test = x_train_scaler.transform(x_test_values)\n",
    "\n",
    "# Normalized to training data\n",
    "forex_normalized_to_traindata = x_train_scaler.transform(series.values.reshape(-1, 1))"
   ]
  },
  {
   "cell_type": "markdown",
   "metadata": {
    "colab_type": "text",
    "id": "ZZiFRsKOW65u"
   },
   "source": [
    "#### Find Best Learning Rate"
   ]
  },
  {
   "cell_type": "code",
   "execution_count": null,
   "metadata": {
    "colab": {
     "base_uri": "https://localhost:8080/",
     "height": 1000
    },
    "colab_type": "code",
    "id": "RhGTv4G_8OIp",
    "outputId": "ef71f8d0-d990-4f63-c76e-f67a5d7de524"
   },
   "outputs": [],
   "source": [
    "keras.backend.clear_session()\n",
    "tf.random.set_seed(42)\n",
    "np.random.seed(42)\n",
    "\n",
    "window_size = 20\n",
    "train_set = window_dataset(normalized_x_train.flatten(), window_size)\n",
    "\n",
    "model = keras.models.Sequential([\n",
    "  keras.layers.Dense(10, activation=\"relu\", input_shape=[window_size]),\n",
    "  keras.layers.Dense(10, activation=\"relu\"),\n",
    "  keras.layers.Dense(1)\n",
    "])\n",
    "\n",
    "lr_schedule = keras.callbacks.LearningRateScheduler(\n",
    "    lambda epoch: 1e-7 * 10**(epoch / 20))\n",
    "optimizer = keras.optimizers.Nadam(lr=1e-7)\n",
    "model.compile(loss=\"mean_squared_error\",\n",
    "              optimizer=optimizer,\n",
    "              metrics=[\"mae\"])\n",
    "history = model.fit(train_set, epochs=100, callbacks=[lr_schedule], verbose=0)"
   ]
  },
  {
   "cell_type": "code",
   "execution_count": 8,
   "metadata": {
    "colab": {
     "base_uri": "https://localhost:8080/",
     "height": 290
    },
    "colab_type": "code",
    "id": "5g-nC_em8OIq",
    "outputId": "b3b4c449-4c8d-4c26-deb1-ac9174cbb349"
   },
   "outputs": [
    {
     "data": {
      "image/png": "[encoded data removed]",
      "text/plain": [
       "<Figure size 720x720 with 1 Axes>"
      ]
     },
     "metadata": {},
     "output_type": "display_data"
    }
   ],
   "source": [
    "# Plot the learning rate chart\n",
    "plt.semilogx(history.history[\"lr\"], history.history[\"loss\"])\n",
    "plt.title('Learning rate chart', fontsize=18)\n",
    "plt.xlabel('Learning rate', fontsize=15)\n",
    "plt.ylabel('Loss', fontsize=15)\n",
    "plt.xticks(fontsize=15)\n",
    "plt.yticks(fontsize=15)\n",
    "plt.axis([1e-7, 1, 0, 0.1])\n",
    "plt.tight_layout()\n",
    "plt.show()"
   ]
  },
  {
   "cell_type": "markdown",
   "metadata": {},
   "source": [
    "#### using grid search to optimize model hyperparameters"
   ]
  },
  {
   "cell_type": "code",
   "execution_count": 8,
   "metadata": {},
   "outputs": [],
   "source": [
    "# create a list of configs to try\n",
    "def model_configs():\n",
    "    config = {}\n",
    "    # define scope of configs\n",
    "    n_epochs = [100, 500]\n",
    "    optimizers = [keras.optimizers.Adam(learning_rate=1e-3), keras.optimizers.Nadam(learning_rate=1e-3), keras.optimizers.SGD(learning_rate=1e-3), keras.optimizers.Adagrad(learning_rate=1e-3)]\n",
    "    losses = [keras.losses.MeanSquaredError(), keras.losses.MeanAbsoluteError()]\n",
    "    # Make a dictionary of the grid search parameters\n",
    "    configs = list()\n",
    "    for epoch in n_epochs:\n",
    "        for optim in optimizers:\n",
    "            for loss in losses:\n",
    "                param_grids = dict(optimizers = optim, loss = loss, epochs=epoch)    # create configs\n",
    "                configs.append(param_grids)\n",
    "    print('Total configs: %d' % len(configs))\n",
    "    return configs"
   ]
  },
  {
   "cell_type": "code",
   "execution_count": 9,
   "metadata": {},
   "outputs": [
    {
     "name": "stdout",
     "output_type": "stream",
     "text": [
      "Total configs: 16\n"
     ]
    },
    {
     "data": {
      "text/plain": [
       "16"
      ]
     },
     "execution_count": 9,
     "metadata": {},
     "output_type": "execute_result"
    }
   ],
   "source": [
    "configs = model_configs()\n",
    "len(configs)"
   ]
  },
  {
   "cell_type": "markdown",
   "metadata": {
    "colab_type": "text",
    "id": "0uzfjgZLXDVF"
   },
   "source": [
    "#### Create Model"
   ]
  },
  {
   "cell_type": "code",
   "execution_count": null,
   "metadata": {
    "colab": {
     "base_uri": "https://localhost:8080/",
     "height": 1000
    },
    "colab_type": "code",
    "id": "B7t0VrCH8OIr",
    "outputId": "837c3482-516c-4719-d513-42ef36ef99ec"
   },
   "outputs": [],
   "source": [
    "# Clear back end\n",
    "keras.backend.clear_session()\n",
    "\n",
    "# Ensure reproducibility\n",
    "tf.random.set_seed(42)\n",
    "np.random.seed(42)\n",
    "\n",
    "# Set Window Size\n",
    "window_size = 20\n",
    "train_set = window_dataset(normalized_x_train.flatten(), window_size)\n",
    "valid_set = window_dataset(normalized_x_valid.flatten(), window_size)\n",
    "\n",
    "# Build 2 layer model with 10 neurons each and 1 output layer\n",
    "model = keras.models.Sequential([\n",
    "  keras.layers.Dense(10, activation=\"relu\", input_shape=[window_size]),\n",
    "  keras.layers.Dense(10, activation=\"relu\"),\n",
    "  keras.layers.Dense(1)\n",
    "])\n",
    "\n",
    "# Set optimizer\n",
    "optimizer = keras.optimizers.Nadam(lr=1e-3)\n",
    "model.compile(loss=\"mean_squared_error\",\n",
    "              optimizer=optimizer,\n",
    "              metrics=[\"mae\"])\n",
    "\n",
    "# Set early Stopping\n",
    "early_stopping = keras.callbacks.EarlyStopping(patience=20)\n",
    "\n",
    "# create save points for best model\n",
    "model_checkpoint = keras.callbacks.ModelCheckpoint(\n",
    "    \"my_checkpoint\", save_best_only=True)\n",
    "\n",
    "# Fit model\n",
    "history = model.fit(train_set, epochs=500,\n",
    "                    validation_data=valid_set,\n",
    "                    callbacks=[early_stopping, model_checkpoint])"
   ]
  },
  {
   "cell_type": "code",
   "execution_count": 10,
   "metadata": {
    "colab": {},
    "colab_type": "code",
    "id": "NfVoTx5sjKql"
   },
   "outputs": [],
   "source": [
    "model = keras.models.load_model(\"my_checkpoint\")"
   ]
  },
  {
   "cell_type": "code",
   "execution_count": 11,
   "metadata": {
    "colab": {},
    "colab_type": "code",
    "id": "RqQbX6DZ8OIu"
   },
   "outputs": [],
   "source": [
    "dense_forecast = model_forecast(model, forex_normalized_to_traindata.flatten()[-test_split_index - window_size:-1], window_size)[:, 0]"
   ]
  },
  {
   "cell_type": "code",
   "execution_count": 12,
   "metadata": {
    "colab": {
     "base_uri": "https://localhost:8080/",
     "height": 33
    },
    "colab_type": "code",
    "id": "9EZLjPLgyqci",
    "outputId": "b54335be-54b1-46e4-ee80-90a080494c4f"
   },
   "outputs": [
    {
     "data": {
      "text/plain": [
       "(4852,)"
      ]
     },
     "execution_count": 12,
     "metadata": {},
     "output_type": "execute_result"
    }
   ],
   "source": [
    "forex_normalized_to_traindata.flatten().shape"
   ]
  },
  {
   "cell_type": "code",
   "execution_count": 13,
   "metadata": {
    "colab": {
     "base_uri": "https://localhost:8080/",
     "height": 33
    },
    "colab_type": "code",
    "id": "RUhD-RDML_WY",
    "outputId": "b17fbc08-6c62-432f-f7cf-7dba0a0ae548"
   },
   "outputs": [
    {
     "data": {
      "text/plain": [
       "(485,)"
      ]
     },
     "execution_count": 13,
     "metadata": {},
     "output_type": "execute_result"
    }
   ],
   "source": [
    "# Undo the scaling\n",
    "dense_forecast = x_train_scaler.inverse_transform(dense_forecast.reshape(-1,1)).flatten()\n",
    "dense_forecast.shape"
   ]
  },
  {
   "cell_type": "code",
   "execution_count": 14,
   "metadata": {
    "colab": {
     "base_uri": "https://localhost:8080/",
     "height": 410
    },
    "colab_type": "code",
    "id": "98zwAuIo8OIv",
    "outputId": "cbe3d2d6-7e7c-4074-9a2b-2d7bae6adbf9"
   },
   "outputs": [
    {
     "data": {
      "image/png": "[encoded data removed]",
      "text/plain": [
       "<Figure size 1080x504 with 1 Axes>"
      ]
     },
     "metadata": {},
     "output_type": "display_data"
    }
   ],
   "source": [
    "# set style of charts\n",
    "sns.set(style=\"darkgrid\")\n",
    "\n",
    "plt.figure(figsize=(15, 7))\n",
    "plot_series(x_test.index, x_test, label=\"Actual Price\")\n",
    "plot_series(x_test.index, dense_forecast, label=\"Predicted Price\")\n",
    "plt.title('Dense Neural Network Forecast vs Actual', fontsize=18)\n",
    "plt.legend()\n",
    "plt.ylabel('Forex Rate : GBPUSD', fontsize=15)\n",
    "plt.xlabel('Timestep in Years', fontsize=15)\n",
    "plt.xticks(fontsize=15)\n",
    "plt.yticks(fontsize=15)\n",
    "plt.show()"
   ]
  },
  {
   "cell_type": "markdown",
   "metadata": {
    "colab_type": "text",
    "id": "NO6jYts6g6wV"
   },
   "source": [
    "#### Dense Model Result"
   ]
  },
  {
   "cell_type": "code",
   "execution_count": 17,
   "metadata": {},
   "outputs": [
    {
     "data": {
      "text/html": [
       "<div>\n",
       "<style scoped>\n",
       "    .dataframe tbody tr th:only-of-type {\n",
       "        vertical-align: middle;\n",
       "    }\n",
       "\n",
       "    .dataframe tbody tr th {\n",
       "        vertical-align: top;\n",
       "    }\n",
       "\n",
       "    .dataframe thead th {\n",
       "        text-align: right;\n",
       "    }\n",
       "</style>\n",
       "<table border=\"1\" class=\"dataframe\">\n",
       "  <thead>\n",
       "    <tr style=\"text-align: right;\">\n",
       "      <th></th>\n",
       "      <th>Model</th>\n",
       "      <th>MAE</th>\n",
       "      <th>MAPE in %</th>\n",
       "    </tr>\n",
       "  </thead>\n",
       "  <tbody>\n",
       "    <tr>\n",
       "      <th>0</th>\n",
       "      <td>Naive Model</td>\n",
       "      <td>0.004958</td>\n",
       "      <td>0.374773</td>\n",
       "    </tr>\n",
       "    <tr>\n",
       "      <th>1</th>\n",
       "      <td>MA5</td>\n",
       "      <td>0.011715</td>\n",
       "      <td>0.890453</td>\n",
       "    </tr>\n",
       "    <tr>\n",
       "      <th>2</th>\n",
       "      <td>MA20</td>\n",
       "      <td>0.024235</td>\n",
       "      <td>1.840606</td>\n",
       "    </tr>\n",
       "    <tr>\n",
       "      <th>3</th>\n",
       "      <td>ARIMA (0,1,0)</td>\n",
       "      <td>0.004958</td>\n",
       "      <td>0.374773</td>\n",
       "    </tr>\n",
       "    <tr>\n",
       "      <th>4</th>\n",
       "      <td>Linear model (MA5, MA20)</td>\n",
       "      <td>0.005484</td>\n",
       "      <td>0.414356</td>\n",
       "    </tr>\n",
       "    <tr>\n",
       "      <th>5</th>\n",
       "      <td>Dense Neural Network</td>\n",
       "      <td>0.011224</td>\n",
       "      <td>0.858841</td>\n",
       "    </tr>\n",
       "    <tr>\n",
       "      <th>6</th>\n",
       "      <td>LSTM</td>\n",
       "      <td>0.002854</td>\n",
       "      <td>0.211474</td>\n",
       "    </tr>\n",
       "    <tr>\n",
       "      <th>7</th>\n",
       "      <td>RNN</td>\n",
       "      <td>0.005412</td>\n",
       "      <td>0.410384</td>\n",
       "    </tr>\n",
       "    <tr>\n",
       "      <th>8</th>\n",
       "      <td>CNN Wavenet</td>\n",
       "      <td>0.022571</td>\n",
       "      <td>1.715851</td>\n",
       "    </tr>\n",
       "    <tr>\n",
       "      <th>9</th>\n",
       "      <td>Dense Neural Network</td>\n",
       "      <td>0.008336</td>\n",
       "      <td>0.648385</td>\n",
       "    </tr>\n",
       "  </tbody>\n",
       "</table>\n",
       "</div>"
      ],
      "text/plain": [
       "                      Model       MAE  MAPE in %\n",
       "0               Naive Model  0.004958   0.374773\n",
       "1                       MA5  0.011715   0.890453\n",
       "2                      MA20  0.024235   1.840606\n",
       "3             ARIMA (0,1,0)  0.004958   0.374773\n",
       "4  Linear model (MA5, MA20)  0.005484   0.414356\n",
       "5      Dense Neural Network  0.011224   0.858841\n",
       "6                      LSTM  0.002854   0.211474\n",
       "7                       RNN  0.005412   0.410384\n",
       "8               CNN Wavenet  0.022571   1.715851\n",
       "9      Dense Neural Network  0.008336   0.648385"
      ]
     },
     "execution_count": 17,
     "metadata": {},
     "output_type": "execute_result"
    }
   ],
   "source": [
    "model_scores = pd.read_csv(\"./Model scores.csv\", index_col=0)\n",
    "\n",
    "# MAE\n",
    "dense_mae = keras.metrics.mean_absolute_error(x_test, dense_forecast).numpy()\n",
    "\n",
    "# Using the mean_absolute_percentage_error function\n",
    "from sklearn.metrics import mean_absolute_percentage_error\n",
    "\n",
    "# MAPE\n",
    "dense_mape = mean_absolute_percentage_error(x_test, dense_forecast) * 100\n",
    "\n",
    "model_scores.loc[len(model_scores.index)] = [\"Dense Neural Network\", dense_mae, dense_mape]\n",
    "\n",
    "# view the dataframe of scores\n",
    "model_scores"
   ]
  },
  {
   "cell_type": "code",
   "execution_count": 18,
   "metadata": {},
   "outputs": [],
   "source": [
    "model_scores.to_csv(\"./Model scores.csv\")"
   ]
  },
  {
   "cell_type": "code",
   "execution_count": null,
   "metadata": {},
   "outputs": [],
   "source": [
    "from tqdm.notebook import tqdm, trange\n",
    "\n",
    "# Clear back end\n",
    "keras.backend.clear_session()\n",
    "\n",
    "# Ensure reproducibility\n",
    "tf.random.set_seed(42)\n",
    "np.random.seed(42)\n",
    "\n",
    "# Set Window Size\n",
    "window_size = 20\n",
    "train_set = window_dataset(normalized_x_train.flatten(), window_size)\n",
    "valid_set = window_dataset(normalized_x_valid.flatten(), window_size)\n",
    "\n",
    "x=1\n",
    "mae_df = pd.DataFrame(columns=[\"MAE score\", \"config\"])\n",
    "\n",
    "\n",
    "for config in tqdm(configs, desc=\"Progress\"):\n",
    "    # Build 2 layer model with 10 neurons each and 1 output layer\n",
    "    print(\"Training for config : \", config)\n",
    "    model = keras.models.Sequential([\n",
    "      keras.layers.Dense(10, activation=\"relu\", input_shape=[window_size]),\n",
    "      keras.layers.Dense(10, activation=\"relu\"),\n",
    "      keras.layers.Dense(1)\n",
    "    ])\n",
    "\n",
    "    # Set optimizer\n",
    "    optimizer = config[\"optimizers\"]\n",
    "    \n",
    "    model.compile(loss=config[\"loss\"],\n",
    "              optimizer=optimizer,\n",
    "              metrics=[\"mae\"])\n",
    "\n",
    "    # Set early Stopping\n",
    "    early_stopping = keras.callbacks.EarlyStopping(patience=20)\n",
    "    \n",
    "    config_list = (config[\"epochs\"], config[\"optimizers\"], config[\"loss\"])\n",
    "\n",
    "    # create save points for best model\n",
    "    model_checkpoint = keras.callbacks.ModelCheckpoint(\n",
    "        \"my_checkpoint\"+str(x), save_best_only=True)\n",
    "    \n",
    "    x+=1\n",
    "\n",
    "    # Fit model\n",
    "    history = model.fit(train_set, epochs=config[\"epochs\"],\n",
    "                    validation_data=valid_set,\n",
    "                    callbacks=[early_stopping, model_checkpoint], verbose=0)\n",
    "    \n",
    "    dense_forecast = model_forecast(model, forex_normalized_to_traindata.flatten()[-test_split_index - window_size:-1], window_size)[:, 0]\n",
    "    # Undo the scaling\n",
    "    dense_forecast = x_train_scaler.inverse_transform(dense_forecast.reshape(-1,1)).flatten()\n",
    "    mae_score = keras.metrics.mean_absolute_error(x_test, dense_forecast).numpy()\n",
    "    \n",
    "    mae_df.loc[len(mae_df.index)] = [mae_score, config_list]\n",
    "\n",
    "mae_df.sort_values(by = \"MAE score\")"
   ]
  },
  {
   "cell_type": "code",
   "execution_count": 38,
   "metadata": {},
   "outputs": [
    {
     "name": "stdout",
     "output_type": "stream",
     "text": [
      "    MAE score                             config\n",
      "11   0.005551    (500, Nadam, MeanAbsoluteError)\n",
      "10   0.005558     (500, Nadam, MeanSquaredError)\n",
      "9    0.005675     (500, Adam, MeanAbsoluteError)\n",
      "8    0.006058      (500, Adam, MeanSquaredError)\n",
      "0    0.006149      (100, Adam, MeanSquaredError)\n",
      "3    0.006803    (100, Nadam, MeanAbsoluteError)\n",
      "1    0.007360     (100, Adam, MeanAbsoluteError)\n",
      "13   0.008494      (500, SGD, MeanAbsoluteError)\n",
      "2    0.009287     (100, Nadam, MeanSquaredError)\n",
      "7    0.010544  (100, Adagrad, MeanAbsoluteError)\n",
      "5    0.013778      (100, SGD, MeanAbsoluteError)\n",
      "12   0.017032       (500, SGD, MeanSquaredError)\n",
      "4    0.042981       (100, SGD, MeanSquaredError)\n",
      "15   0.051947  (500, Adagrad, MeanAbsoluteError)\n",
      "6    0.056884   (100, Adagrad, MeanSquaredError)\n",
      "14   0.074691   (500, Adagrad, MeanSquaredError)\n"
     ]
    }
   ],
   "source": [
    "mae_df = pd.DataFrame(columns=[\"MAE score\", \"config\"])\n",
    "   \n",
    "for a in range(1, 17):\n",
    "    config = configs[a-1]\n",
    "    optim = config[\"optimizers\"].__class__.__name__\n",
    "    loss = config[\"loss\"].__class__.__name__\n",
    "    \n",
    "    config_list = (config[\"epochs\"], optim, loss)\n",
    "    \n",
    "    model = keras.models.load_model(\"my_checkpoint\"+str(a))\n",
    "    dense_forecast = model_forecast(model, forex_normalized_to_traindata.flatten()[-test_split_index - window_size:-1], window_size)[:, 0]\n",
    "    # Undo the scaling\n",
    "    dense_forecast = x_train_scaler.inverse_transform(dense_forecast.reshape(-1,1)).flatten()\n",
    "    mae_score = keras.metrics.mean_absolute_error(x_test, dense_forecast).numpy()\n",
    "    \n",
    "    mae_df.loc[len(mae_df.index)] = [mae_score, config_list]\n",
    "\n",
    "mae_df = mae_df.sort_values(by = \"MAE score\")\n",
    "print(mae_df)"
   ]
  },
  {
   "cell_type": "code",
   "execution_count": 39,
   "metadata": {},
   "outputs": [
    {
     "data": {
      "text/html": [
       "<div>\n",
       "<style scoped>\n",
       "    .dataframe tbody tr th:only-of-type {\n",
       "        vertical-align: middle;\n",
       "    }\n",
       "\n",
       "    .dataframe tbody tr th {\n",
       "        vertical-align: top;\n",
       "    }\n",
       "\n",
       "    .dataframe thead th {\n",
       "        text-align: right;\n",
       "    }\n",
       "</style>\n",
       "<table border=\"1\" class=\"dataframe\">\n",
       "  <thead>\n",
       "    <tr style=\"text-align: right;\">\n",
       "      <th></th>\n",
       "      <th>MAE score</th>\n",
       "      <th>config</th>\n",
       "    </tr>\n",
       "  </thead>\n",
       "  <tbody>\n",
       "    <tr>\n",
       "      <th>11</th>\n",
       "      <td>0.005551</td>\n",
       "      <td>(500, Nadam, MeanAbsoluteError)</td>\n",
       "    </tr>\n",
       "    <tr>\n",
       "      <th>10</th>\n",
       "      <td>0.005558</td>\n",
       "      <td>(500, Nadam, MeanSquaredError)</td>\n",
       "    </tr>\n",
       "    <tr>\n",
       "      <th>9</th>\n",
       "      <td>0.005675</td>\n",
       "      <td>(500, Adam, MeanAbsoluteError)</td>\n",
       "    </tr>\n",
       "    <tr>\n",
       "      <th>8</th>\n",
       "      <td>0.006058</td>\n",
       "      <td>(500, Adam, MeanSquaredError)</td>\n",
       "    </tr>\n",
       "    <tr>\n",
       "      <th>0</th>\n",
       "      <td>0.006149</td>\n",
       "      <td>(100, Adam, MeanSquaredError)</td>\n",
       "    </tr>\n",
       "    <tr>\n",
       "      <th>3</th>\n",
       "      <td>0.006803</td>\n",
       "      <td>(100, Nadam, MeanAbsoluteError)</td>\n",
       "    </tr>\n",
       "    <tr>\n",
       "      <th>1</th>\n",
       "      <td>0.007360</td>\n",
       "      <td>(100, Adam, MeanAbsoluteError)</td>\n",
       "    </tr>\n",
       "    <tr>\n",
       "      <th>13</th>\n",
       "      <td>0.008494</td>\n",
       "      <td>(500, SGD, MeanAbsoluteError)</td>\n",
       "    </tr>\n",
       "    <tr>\n",
       "      <th>2</th>\n",
       "      <td>0.009287</td>\n",
       "      <td>(100, Nadam, MeanSquaredError)</td>\n",
       "    </tr>\n",
       "    <tr>\n",
       "      <th>7</th>\n",
       "      <td>0.010544</td>\n",
       "      <td>(100, Adagrad, MeanAbsoluteError)</td>\n",
       "    </tr>\n",
       "    <tr>\n",
       "      <th>5</th>\n",
       "      <td>0.013778</td>\n",
       "      <td>(100, SGD, MeanAbsoluteError)</td>\n",
       "    </tr>\n",
       "    <tr>\n",
       "      <th>12</th>\n",
       "      <td>0.017032</td>\n",
       "      <td>(500, SGD, MeanSquaredError)</td>\n",
       "    </tr>\n",
       "    <tr>\n",
       "      <th>4</th>\n",
       "      <td>0.042981</td>\n",
       "      <td>(100, SGD, MeanSquaredError)</td>\n",
       "    </tr>\n",
       "    <tr>\n",
       "      <th>15</th>\n",
       "      <td>0.051947</td>\n",
       "      <td>(500, Adagrad, MeanAbsoluteError)</td>\n",
       "    </tr>\n",
       "    <tr>\n",
       "      <th>6</th>\n",
       "      <td>0.056884</td>\n",
       "      <td>(100, Adagrad, MeanSquaredError)</td>\n",
       "    </tr>\n",
       "    <tr>\n",
       "      <th>14</th>\n",
       "      <td>0.074691</td>\n",
       "      <td>(500, Adagrad, MeanSquaredError)</td>\n",
       "    </tr>\n",
       "  </tbody>\n",
       "</table>\n",
       "</div>"
      ],
      "text/plain": [
       "    MAE score                             config\n",
       "11   0.005551    (500, Nadam, MeanAbsoluteError)\n",
       "10   0.005558     (500, Nadam, MeanSquaredError)\n",
       "9    0.005675     (500, Adam, MeanAbsoluteError)\n",
       "8    0.006058      (500, Adam, MeanSquaredError)\n",
       "0    0.006149      (100, Adam, MeanSquaredError)\n",
       "3    0.006803    (100, Nadam, MeanAbsoluteError)\n",
       "1    0.007360     (100, Adam, MeanAbsoluteError)\n",
       "13   0.008494      (500, SGD, MeanAbsoluteError)\n",
       "2    0.009287     (100, Nadam, MeanSquaredError)\n",
       "7    0.010544  (100, Adagrad, MeanAbsoluteError)\n",
       "5    0.013778      (100, SGD, MeanAbsoluteError)\n",
       "12   0.017032       (500, SGD, MeanSquaredError)\n",
       "4    0.042981       (100, SGD, MeanSquaredError)\n",
       "15   0.051947  (500, Adagrad, MeanAbsoluteError)\n",
       "6    0.056884   (100, Adagrad, MeanSquaredError)\n",
       "14   0.074691   (500, Adagrad, MeanSquaredError)"
      ]
     },
     "execution_count": 39,
     "metadata": {},
     "output_type": "execute_result"
    }
   ],
   "source": [
    "mae_df"
   ]
  },
  {
   "cell_type": "code",
   "execution_count": 40,
   "metadata": {},
   "outputs": [],
   "source": [
    "mae_df.to_csv(\"DNN simulations\")"
   ]
  },
  {
   "cell_type": "code",
   "execution_count": null,
   "metadata": {},
   "outputs": [],
   "source": []
  }
 ],
 "metadata": {
  "colab": {
   "collapsed_sections": [],
   "name": "Dense Forecast.ipynb",
   "provenance": [],
   "toc_visible": true
  },
  "kernelspec": {
   "display_name": "Python 3 (ipykernel)",
   "language": "python",
   "name": "python3"
  },
  "language_info": {
   "codemirror_mode": {
    "name": "ipython",
    "version": 3
   },
   "file_extension": ".py",
   "mimetype": "text/x-python",
   "name": "python",
   "nbconvert_exporter": "python",
   "pygments_lexer": "ipython3",
   "version": "3.8.8"
  }
 },
 "nbformat": 4,
 "nbformat_minor": 4
}
